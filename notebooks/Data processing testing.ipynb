{
 "cells": [
  {
   "cell_type": "code",
   "execution_count": 1,
   "metadata": {},
   "outputs": [],
   "source": [
    "import numpy as np\n",
    "import os\n",
    "import pandas as pd\n",
    "import sys\n",
    "sys.path.append('..')\n",
    "from src.tools import numerai_api"
   ]
  },
  {
   "cell_type": "code",
   "execution_count": 2,
   "metadata": {},
   "outputs": [],
   "source": [
    "round_number = numerai_api.get_current_round()"
   ]
  },
  {
   "cell_type": "code",
   "execution_count": 3,
   "metadata": {},
   "outputs": [],
   "source": [
    "raw_data_path = os.path.join(os.path.pardir,'data','raw')\n",
    "raw_data_file = os.path.join(raw_data_path, '{}_numerai_raw.pkl'.format(round_number))"
   ]
  },
  {
   "cell_type": "code",
   "execution_count": 4,
   "metadata": {},
   "outputs": [
    {
     "name": "stdout",
     "output_type": "stream",
     "text": [
      "get_raw_data_binary.py\tget_raw_data.py  make_dataset.py\r\n"
     ]
    }
   ],
   "source": [
    "!ls ../src/data/"
   ]
  },
  {
   "cell_type": "code",
   "execution_count": 5,
   "metadata": {},
   "outputs": [],
   "source": [
    "try:\n",
    "    df = pd.read_pickle(raw_data_file)\n",
    "except FileNotFoundError:\n",
    "    !/home/sean/Projects/numerai/numerai/src/data/get_raw_data_binary.py\n",
    "    df = pd.read_pickle(raw_data_file)\n"
   ]
  },
  {
   "cell_type": "code",
   "execution_count": 6,
   "metadata": {},
   "outputs": [
    {
     "data": {
      "text/html": [
       "<div>\n",
       "<style scoped>\n",
       "    .dataframe tbody tr th:only-of-type {\n",
       "        vertical-align: middle;\n",
       "    }\n",
       "\n",
       "    .dataframe tbody tr th {\n",
       "        vertical-align: top;\n",
       "    }\n",
       "\n",
       "    .dataframe thead th {\n",
       "        text-align: right;\n",
       "    }\n",
       "</style>\n",
       "<table border=\"1\" class=\"dataframe\">\n",
       "  <thead>\n",
       "    <tr style=\"text-align: right;\">\n",
       "      <th></th>\n",
       "      <th>era</th>\n",
       "      <th>data_type</th>\n",
       "      <th>feature1</th>\n",
       "      <th>feature2</th>\n",
       "      <th>feature3</th>\n",
       "      <th>feature4</th>\n",
       "      <th>feature5</th>\n",
       "      <th>feature6</th>\n",
       "      <th>feature7</th>\n",
       "      <th>feature8</th>\n",
       "      <th>...</th>\n",
       "      <th>feature42</th>\n",
       "      <th>feature43</th>\n",
       "      <th>feature44</th>\n",
       "      <th>feature45</th>\n",
       "      <th>feature46</th>\n",
       "      <th>feature47</th>\n",
       "      <th>feature48</th>\n",
       "      <th>feature49</th>\n",
       "      <th>feature50</th>\n",
       "      <th>target</th>\n",
       "    </tr>\n",
       "    <tr>\n",
       "      <th>id</th>\n",
       "      <th></th>\n",
       "      <th></th>\n",
       "      <th></th>\n",
       "      <th></th>\n",
       "      <th></th>\n",
       "      <th></th>\n",
       "      <th></th>\n",
       "      <th></th>\n",
       "      <th></th>\n",
       "      <th></th>\n",
       "      <th></th>\n",
       "      <th></th>\n",
       "      <th></th>\n",
       "      <th></th>\n",
       "      <th></th>\n",
       "      <th></th>\n",
       "      <th></th>\n",
       "      <th></th>\n",
       "      <th></th>\n",
       "      <th></th>\n",
       "      <th></th>\n",
       "    </tr>\n",
       "  </thead>\n",
       "  <tbody>\n",
       "    <tr>\n",
       "      <th>n2b2e3dd163cb422</th>\n",
       "      <td>1.0</td>\n",
       "      <td>train</td>\n",
       "      <td>0.43487</td>\n",
       "      <td>0.44645</td>\n",
       "      <td>0.25802</td>\n",
       "      <td>0.37149</td>\n",
       "      <td>0.62235</td>\n",
       "      <td>0.67451</td>\n",
       "      <td>0.68103</td>\n",
       "      <td>0.45166</td>\n",
       "      <td>...</td>\n",
       "      <td>0.52962</td>\n",
       "      <td>0.42439</td>\n",
       "      <td>0.51680</td>\n",
       "      <td>0.46297</td>\n",
       "      <td>0.57426</td>\n",
       "      <td>0.57946</td>\n",
       "      <td>0.49646</td>\n",
       "      <td>0.48968</td>\n",
       "      <td>0.54194</td>\n",
       "      <td>1.0</td>\n",
       "    </tr>\n",
       "    <tr>\n",
       "      <th>n177021a571c94c8</th>\n",
       "      <td>1.0</td>\n",
       "      <td>train</td>\n",
       "      <td>0.50038</td>\n",
       "      <td>0.39216</td>\n",
       "      <td>0.38394</td>\n",
       "      <td>0.51213</td>\n",
       "      <td>0.36660</td>\n",
       "      <td>0.46911</td>\n",
       "      <td>0.68204</td>\n",
       "      <td>0.61320</td>\n",
       "      <td>...</td>\n",
       "      <td>0.51669</td>\n",
       "      <td>0.48445</td>\n",
       "      <td>0.57587</td>\n",
       "      <td>0.59860</td>\n",
       "      <td>0.67558</td>\n",
       "      <td>0.45577</td>\n",
       "      <td>0.80908</td>\n",
       "      <td>0.50287</td>\n",
       "      <td>0.61629</td>\n",
       "      <td>0.0</td>\n",
       "    </tr>\n",
       "    <tr>\n",
       "      <th>n7830fa4c0cd8466</th>\n",
       "      <td>1.0</td>\n",
       "      <td>train</td>\n",
       "      <td>0.47416</td>\n",
       "      <td>0.34143</td>\n",
       "      <td>0.39528</td>\n",
       "      <td>0.46337</td>\n",
       "      <td>0.72953</td>\n",
       "      <td>0.45962</td>\n",
       "      <td>0.47869</td>\n",
       "      <td>0.68118</td>\n",
       "      <td>...</td>\n",
       "      <td>0.41458</td>\n",
       "      <td>0.34804</td>\n",
       "      <td>0.29058</td>\n",
       "      <td>0.51382</td>\n",
       "      <td>0.36389</td>\n",
       "      <td>0.80602</td>\n",
       "      <td>0.39253</td>\n",
       "      <td>0.41821</td>\n",
       "      <td>0.58679</td>\n",
       "      <td>0.0</td>\n",
       "    </tr>\n",
       "    <tr>\n",
       "      <th>nc594a184cee941b</th>\n",
       "      <td>1.0</td>\n",
       "      <td>train</td>\n",
       "      <td>0.48759</td>\n",
       "      <td>0.55903</td>\n",
       "      <td>0.43987</td>\n",
       "      <td>0.38834</td>\n",
       "      <td>0.44650</td>\n",
       "      <td>0.46389</td>\n",
       "      <td>0.70749</td>\n",
       "      <td>0.63182</td>\n",
       "      <td>...</td>\n",
       "      <td>0.28776</td>\n",
       "      <td>0.42881</td>\n",
       "      <td>0.55402</td>\n",
       "      <td>0.53695</td>\n",
       "      <td>0.48793</td>\n",
       "      <td>0.62432</td>\n",
       "      <td>0.52898</td>\n",
       "      <td>0.49009</td>\n",
       "      <td>0.49557</td>\n",
       "      <td>0.0</td>\n",
       "    </tr>\n",
       "    <tr>\n",
       "      <th>nc5ab8667901946a</th>\n",
       "      <td>1.0</td>\n",
       "      <td>train</td>\n",
       "      <td>0.23433</td>\n",
       "      <td>0.55499</td>\n",
       "      <td>0.47849</td>\n",
       "      <td>0.56990</td>\n",
       "      <td>0.64945</td>\n",
       "      <td>0.47152</td>\n",
       "      <td>0.62085</td>\n",
       "      <td>0.57626</td>\n",
       "      <td>...</td>\n",
       "      <td>0.64405</td>\n",
       "      <td>0.32416</td>\n",
       "      <td>0.33193</td>\n",
       "      <td>0.58065</td>\n",
       "      <td>0.44587</td>\n",
       "      <td>0.47770</td>\n",
       "      <td>0.44020</td>\n",
       "      <td>0.47895</td>\n",
       "      <td>0.57978</td>\n",
       "      <td>0.0</td>\n",
       "    </tr>\n",
       "  </tbody>\n",
       "</table>\n",
       "<p>5 rows × 53 columns</p>\n",
       "</div>"
      ],
      "text/plain": [
       "                  era data_type  feature1  feature2  feature3  feature4  \\\n",
       "id                                                                        \n",
       "n2b2e3dd163cb422  1.0     train   0.43487   0.44645   0.25802   0.37149   \n",
       "n177021a571c94c8  1.0     train   0.50038   0.39216   0.38394   0.51213   \n",
       "n7830fa4c0cd8466  1.0     train   0.47416   0.34143   0.39528   0.46337   \n",
       "nc594a184cee941b  1.0     train   0.48759   0.55903   0.43987   0.38834   \n",
       "nc5ab8667901946a  1.0     train   0.23433   0.55499   0.47849   0.56990   \n",
       "\n",
       "                  feature5  feature6  feature7  feature8   ...    feature42  \\\n",
       "id                                                         ...                \n",
       "n2b2e3dd163cb422   0.62235   0.67451   0.68103   0.45166   ...      0.52962   \n",
       "n177021a571c94c8   0.36660   0.46911   0.68204   0.61320   ...      0.51669   \n",
       "n7830fa4c0cd8466   0.72953   0.45962   0.47869   0.68118   ...      0.41458   \n",
       "nc594a184cee941b   0.44650   0.46389   0.70749   0.63182   ...      0.28776   \n",
       "nc5ab8667901946a   0.64945   0.47152   0.62085   0.57626   ...      0.64405   \n",
       "\n",
       "                  feature43  feature44  feature45  feature46  feature47  \\\n",
       "id                                                                        \n",
       "n2b2e3dd163cb422    0.42439    0.51680    0.46297    0.57426    0.57946   \n",
       "n177021a571c94c8    0.48445    0.57587    0.59860    0.67558    0.45577   \n",
       "n7830fa4c0cd8466    0.34804    0.29058    0.51382    0.36389    0.80602   \n",
       "nc594a184cee941b    0.42881    0.55402    0.53695    0.48793    0.62432   \n",
       "nc5ab8667901946a    0.32416    0.33193    0.58065    0.44587    0.47770   \n",
       "\n",
       "                  feature48  feature49  feature50  target  \n",
       "id                                                         \n",
       "n2b2e3dd163cb422    0.49646    0.48968    0.54194     1.0  \n",
       "n177021a571c94c8    0.80908    0.50287    0.61629     0.0  \n",
       "n7830fa4c0cd8466    0.39253    0.41821    0.58679     0.0  \n",
       "nc594a184cee941b    0.52898    0.49009    0.49557     0.0  \n",
       "nc5ab8667901946a    0.44020    0.47895    0.57978     0.0  \n",
       "\n",
       "[5 rows x 53 columns]"
      ]
     },
     "execution_count": 6,
     "metadata": {},
     "output_type": "execute_result"
    }
   ],
   "source": [
    "df.head()"
   ]
  },
  {
   "cell_type": "code",
   "execution_count": 7,
   "metadata": {},
   "outputs": [
    {
     "name": "stdout",
     "output_type": "stream",
     "text": [
      "<class 'pandas.core.frame.DataFrame'>\n",
      "Index: 637059 entries, n2b2e3dd163cb422 to n19eb23b343bd44e\n",
      "Data columns (total 53 columns):\n",
      "era          439975 non-null float64\n",
      "data_type    637059 non-null object\n",
      "feature1     637059 non-null float32\n",
      "feature2     637059 non-null float32\n",
      "feature3     637059 non-null float32\n",
      "feature4     637059 non-null float32\n",
      "feature5     637059 non-null float32\n",
      "feature6     637059 non-null float32\n",
      "feature7     637059 non-null float32\n",
      "feature8     637059 non-null float32\n",
      "feature9     637059 non-null float32\n",
      "feature10    637059 non-null float32\n",
      "feature11    637059 non-null float32\n",
      "feature12    637059 non-null float32\n",
      "feature13    637059 non-null float32\n",
      "feature14    637059 non-null float32\n",
      "feature15    637059 non-null float32\n",
      "feature16    637059 non-null float32\n",
      "feature17    637059 non-null float32\n",
      "feature18    637059 non-null float32\n",
      "feature19    637059 non-null float32\n",
      "feature20    637059 non-null float32\n",
      "feature21    637059 non-null float32\n",
      "feature22    637059 non-null float32\n",
      "feature23    637059 non-null float32\n",
      "feature24    637059 non-null float32\n",
      "feature25    637059 non-null float32\n",
      "feature26    637059 non-null float32\n",
      "feature27    637059 non-null float32\n",
      "feature28    637059 non-null float32\n",
      "feature29    637059 non-null float32\n",
      "feature30    637059 non-null float32\n",
      "feature31    637059 non-null float32\n",
      "feature32    637059 non-null float32\n",
      "feature33    637059 non-null float32\n",
      "feature34    637059 non-null float32\n",
      "feature35    637059 non-null float32\n",
      "feature36    637059 non-null float32\n",
      "feature37    637059 non-null float32\n",
      "feature38    637059 non-null float32\n",
      "feature39    637059 non-null float32\n",
      "feature40    637059 non-null float32\n",
      "feature41    637059 non-null float32\n",
      "feature42    637059 non-null float32\n",
      "feature43    637059 non-null float32\n",
      "feature44    637059 non-null float32\n",
      "feature45    637059 non-null float32\n",
      "feature46    637059 non-null float32\n",
      "feature47    637059 non-null float32\n",
      "feature48    637059 non-null float32\n",
      "feature49    637059 non-null float32\n",
      "feature50    637059 non-null float32\n",
      "target       439975 non-null float64\n",
      "dtypes: float32(50), float64(2), object(1)\n",
      "memory usage: 141.0+ MB\n"
     ]
    }
   ],
   "source": [
    "df.info()"
   ]
  },
  {
   "cell_type": "code",
   "execution_count": 8,
   "metadata": {},
   "outputs": [
    {
     "data": {
      "text/plain": [
       "array(['train', 'validation', 'test', 'live'], dtype=object)"
      ]
     },
     "execution_count": 8,
     "metadata": {},
     "output_type": "execute_result"
    }
   ],
   "source": [
    "df['data_type'].unique()"
   ]
  },
  {
   "cell_type": "code",
   "execution_count": 9,
   "metadata": {},
   "outputs": [],
   "source": [
    "df_prediction = df.loc[(df['data_type'] == 'validation') | \n",
    "                       (df['data_type'] == 'test') | \n",
    "                       (df['data_type'] == 'live'), 'feature1':'feature50']"
   ]
  },
  {
   "cell_type": "code",
   "execution_count": 10,
   "metadata": {},
   "outputs": [
    {
     "data": {
      "text/html": [
       "<div>\n",
       "<style scoped>\n",
       "    .dataframe tbody tr th:only-of-type {\n",
       "        vertical-align: middle;\n",
       "    }\n",
       "\n",
       "    .dataframe tbody tr th {\n",
       "        vertical-align: top;\n",
       "    }\n",
       "\n",
       "    .dataframe thead th {\n",
       "        text-align: right;\n",
       "    }\n",
       "</style>\n",
       "<table border=\"1\" class=\"dataframe\">\n",
       "  <thead>\n",
       "    <tr style=\"text-align: right;\">\n",
       "      <th></th>\n",
       "      <th>feature1</th>\n",
       "      <th>feature2</th>\n",
       "      <th>feature3</th>\n",
       "      <th>feature4</th>\n",
       "      <th>feature5</th>\n",
       "      <th>feature6</th>\n",
       "      <th>feature7</th>\n",
       "      <th>feature8</th>\n",
       "      <th>feature9</th>\n",
       "      <th>feature10</th>\n",
       "      <th>...</th>\n",
       "      <th>feature41</th>\n",
       "      <th>feature42</th>\n",
       "      <th>feature43</th>\n",
       "      <th>feature44</th>\n",
       "      <th>feature45</th>\n",
       "      <th>feature46</th>\n",
       "      <th>feature47</th>\n",
       "      <th>feature48</th>\n",
       "      <th>feature49</th>\n",
       "      <th>feature50</th>\n",
       "    </tr>\n",
       "    <tr>\n",
       "      <th>id</th>\n",
       "      <th></th>\n",
       "      <th></th>\n",
       "      <th></th>\n",
       "      <th></th>\n",
       "      <th></th>\n",
       "      <th></th>\n",
       "      <th></th>\n",
       "      <th></th>\n",
       "      <th></th>\n",
       "      <th></th>\n",
       "      <th></th>\n",
       "      <th></th>\n",
       "      <th></th>\n",
       "      <th></th>\n",
       "      <th></th>\n",
       "      <th></th>\n",
       "      <th></th>\n",
       "      <th></th>\n",
       "      <th></th>\n",
       "      <th></th>\n",
       "      <th></th>\n",
       "    </tr>\n",
       "  </thead>\n",
       "  <tbody>\n",
       "    <tr>\n",
       "      <th>nc698431c8a7849b</th>\n",
       "      <td>0.32517</td>\n",
       "      <td>0.43143</td>\n",
       "      <td>0.41502</td>\n",
       "      <td>0.38275</td>\n",
       "      <td>0.61453</td>\n",
       "      <td>0.54072</td>\n",
       "      <td>0.53334</td>\n",
       "      <td>0.61018</td>\n",
       "      <td>0.75716</td>\n",
       "      <td>0.41883</td>\n",
       "      <td>...</td>\n",
       "      <td>0.55700</td>\n",
       "      <td>0.49616</td>\n",
       "      <td>0.46299</td>\n",
       "      <td>0.34660</td>\n",
       "      <td>0.46200</td>\n",
       "      <td>0.62928</td>\n",
       "      <td>0.69258</td>\n",
       "      <td>0.57370</td>\n",
       "      <td>0.53505</td>\n",
       "      <td>0.62581</td>\n",
       "    </tr>\n",
       "    <tr>\n",
       "      <th>n8bbe152724604d3</th>\n",
       "      <td>0.21942</td>\n",
       "      <td>0.44113</td>\n",
       "      <td>0.54454</td>\n",
       "      <td>0.57169</td>\n",
       "      <td>0.55712</td>\n",
       "      <td>0.29693</td>\n",
       "      <td>0.44838</td>\n",
       "      <td>0.65719</td>\n",
       "      <td>0.58733</td>\n",
       "      <td>0.50112</td>\n",
       "      <td>...</td>\n",
       "      <td>0.59748</td>\n",
       "      <td>0.59925</td>\n",
       "      <td>0.24924</td>\n",
       "      <td>0.22513</td>\n",
       "      <td>0.67002</td>\n",
       "      <td>0.39358</td>\n",
       "      <td>0.60880</td>\n",
       "      <td>0.43593</td>\n",
       "      <td>0.55447</td>\n",
       "      <td>0.63251</td>\n",
       "    </tr>\n",
       "    <tr>\n",
       "      <th>ndd5cf7b9334c4e8</th>\n",
       "      <td>0.34701</td>\n",
       "      <td>0.44175</td>\n",
       "      <td>0.55301</td>\n",
       "      <td>0.29338</td>\n",
       "      <td>0.54576</td>\n",
       "      <td>0.55562</td>\n",
       "      <td>0.36476</td>\n",
       "      <td>0.66128</td>\n",
       "      <td>0.47317</td>\n",
       "      <td>0.32002</td>\n",
       "      <td>...</td>\n",
       "      <td>0.51613</td>\n",
       "      <td>0.66463</td>\n",
       "      <td>0.29351</td>\n",
       "      <td>0.39094</td>\n",
       "      <td>0.65684</td>\n",
       "      <td>0.49904</td>\n",
       "      <td>0.58673</td>\n",
       "      <td>0.25642</td>\n",
       "      <td>0.34658</td>\n",
       "      <td>0.53628</td>\n",
       "    </tr>\n",
       "    <tr>\n",
       "      <th>nf980f170d99e421</th>\n",
       "      <td>0.32640</td>\n",
       "      <td>0.40166</td>\n",
       "      <td>0.55554</td>\n",
       "      <td>0.48662</td>\n",
       "      <td>0.30937</td>\n",
       "      <td>0.33997</td>\n",
       "      <td>0.50130</td>\n",
       "      <td>0.80167</td>\n",
       "      <td>0.58813</td>\n",
       "      <td>0.62724</td>\n",
       "      <td>...</td>\n",
       "      <td>0.71046</td>\n",
       "      <td>0.42981</td>\n",
       "      <td>0.24457</td>\n",
       "      <td>0.17931</td>\n",
       "      <td>0.78263</td>\n",
       "      <td>0.29531</td>\n",
       "      <td>0.66034</td>\n",
       "      <td>0.53097</td>\n",
       "      <td>0.76424</td>\n",
       "      <td>0.56803</td>\n",
       "    </tr>\n",
       "    <tr>\n",
       "      <th>n35ca742811944cc</th>\n",
       "      <td>0.47259</td>\n",
       "      <td>0.58391</td>\n",
       "      <td>0.45705</td>\n",
       "      <td>0.23002</td>\n",
       "      <td>0.37732</td>\n",
       "      <td>0.47312</td>\n",
       "      <td>0.52077</td>\n",
       "      <td>0.54246</td>\n",
       "      <td>0.45543</td>\n",
       "      <td>0.44164</td>\n",
       "      <td>...</td>\n",
       "      <td>0.54333</td>\n",
       "      <td>0.41473</td>\n",
       "      <td>0.54475</td>\n",
       "      <td>0.53509</td>\n",
       "      <td>0.57826</td>\n",
       "      <td>0.65675</td>\n",
       "      <td>0.51514</td>\n",
       "      <td>0.62636</td>\n",
       "      <td>0.58010</td>\n",
       "      <td>0.34943</td>\n",
       "    </tr>\n",
       "  </tbody>\n",
       "</table>\n",
       "<p>5 rows × 50 columns</p>\n",
       "</div>"
      ],
      "text/plain": [
       "                  feature1  feature2  feature3  feature4  feature5  feature6  \\\n",
       "id                                                                             \n",
       "nc698431c8a7849b   0.32517   0.43143   0.41502   0.38275   0.61453   0.54072   \n",
       "n8bbe152724604d3   0.21942   0.44113   0.54454   0.57169   0.55712   0.29693   \n",
       "ndd5cf7b9334c4e8   0.34701   0.44175   0.55301   0.29338   0.54576   0.55562   \n",
       "nf980f170d99e421   0.32640   0.40166   0.55554   0.48662   0.30937   0.33997   \n",
       "n35ca742811944cc   0.47259   0.58391   0.45705   0.23002   0.37732   0.47312   \n",
       "\n",
       "                  feature7  feature8  feature9  feature10    ...      \\\n",
       "id                                                           ...       \n",
       "nc698431c8a7849b   0.53334   0.61018   0.75716    0.41883    ...       \n",
       "n8bbe152724604d3   0.44838   0.65719   0.58733    0.50112    ...       \n",
       "ndd5cf7b9334c4e8   0.36476   0.66128   0.47317    0.32002    ...       \n",
       "nf980f170d99e421   0.50130   0.80167   0.58813    0.62724    ...       \n",
       "n35ca742811944cc   0.52077   0.54246   0.45543    0.44164    ...       \n",
       "\n",
       "                  feature41  feature42  feature43  feature44  feature45  \\\n",
       "id                                                                        \n",
       "nc698431c8a7849b    0.55700    0.49616    0.46299    0.34660    0.46200   \n",
       "n8bbe152724604d3    0.59748    0.59925    0.24924    0.22513    0.67002   \n",
       "ndd5cf7b9334c4e8    0.51613    0.66463    0.29351    0.39094    0.65684   \n",
       "nf980f170d99e421    0.71046    0.42981    0.24457    0.17931    0.78263   \n",
       "n35ca742811944cc    0.54333    0.41473    0.54475    0.53509    0.57826   \n",
       "\n",
       "                  feature46  feature47  feature48  feature49  feature50  \n",
       "id                                                                       \n",
       "nc698431c8a7849b    0.62928    0.69258    0.57370    0.53505    0.62581  \n",
       "n8bbe152724604d3    0.39358    0.60880    0.43593    0.55447    0.63251  \n",
       "ndd5cf7b9334c4e8    0.49904    0.58673    0.25642    0.34658    0.53628  \n",
       "nf980f170d99e421    0.29531    0.66034    0.53097    0.76424    0.56803  \n",
       "n35ca742811944cc    0.65675    0.51514    0.62636    0.58010    0.34943  \n",
       "\n",
       "[5 rows x 50 columns]"
      ]
     },
     "execution_count": 10,
     "metadata": {},
     "output_type": "execute_result"
    }
   ],
   "source": [
    "df_prediction.head()"
   ]
  },
  {
   "cell_type": "code",
   "execution_count": 11,
   "metadata": {},
   "outputs": [],
   "source": [
    "df_validation_predict = df.loc[df['data_type'] == 'validation','feature1':'feature50']\n",
    "df_validation_target = df.loc[df['data_type'] == 'validation','target']"
   ]
  },
  {
   "cell_type": "code",
   "execution_count": 12,
   "metadata": {},
   "outputs": [
    {
     "data": {
      "text/plain": [
       "[121.0,\n",
       " 122.0,\n",
       " 123.0,\n",
       " 124.0,\n",
       " 125.0,\n",
       " 126.0,\n",
       " 127.0,\n",
       " 128.0,\n",
       " 129.0,\n",
       " 130.0,\n",
       " 131.0,\n",
       " 132.0]"
      ]
     },
     "execution_count": 12,
     "metadata": {},
     "output_type": "execute_result"
    }
   ],
   "source": [
    "eras_validation = [era for era in df[df['data_type'] == 'validation'].era.unique()]\n",
    "eras_validation"
   ]
  },
  {
   "cell_type": "code",
   "execution_count": 13,
   "metadata": {},
   "outputs": [
    {
     "data": {
      "text/plain": [
       "data_type    39361.3\n",
       "dtype: float64"
      ]
     },
     "execution_count": 13,
     "metadata": {},
     "output_type": "execute_result"
    }
   ],
   "source": [
    "eras_train_counts = df.loc[df['data_type'] == 'train', 'era':'data_type'].groupby('era').count()\n",
    "eras_train_counts.mean() * 12"
   ]
  },
  {
   "cell_type": "code",
   "execution_count": 14,
   "metadata": {},
   "outputs": [],
   "source": [
    "X_train = df.loc[df['data_type'] == 'train', :].drop(['data_type','target'], axis=1)"
   ]
  },
  {
   "cell_type": "code",
   "execution_count": 15,
   "metadata": {},
   "outputs": [
    {
     "data": {
      "text/html": [
       "<div>\n",
       "<style scoped>\n",
       "    .dataframe tbody tr th:only-of-type {\n",
       "        vertical-align: middle;\n",
       "    }\n",
       "\n",
       "    .dataframe tbody tr th {\n",
       "        vertical-align: top;\n",
       "    }\n",
       "\n",
       "    .dataframe thead th {\n",
       "        text-align: right;\n",
       "    }\n",
       "</style>\n",
       "<table border=\"1\" class=\"dataframe\">\n",
       "  <thead>\n",
       "    <tr style=\"text-align: right;\">\n",
       "      <th></th>\n",
       "      <th>era</th>\n",
       "      <th>feature1</th>\n",
       "      <th>feature2</th>\n",
       "      <th>feature3</th>\n",
       "      <th>feature4</th>\n",
       "      <th>feature5</th>\n",
       "      <th>feature6</th>\n",
       "      <th>feature7</th>\n",
       "      <th>feature8</th>\n",
       "      <th>feature9</th>\n",
       "      <th>...</th>\n",
       "      <th>feature41</th>\n",
       "      <th>feature42</th>\n",
       "      <th>feature43</th>\n",
       "      <th>feature44</th>\n",
       "      <th>feature45</th>\n",
       "      <th>feature46</th>\n",
       "      <th>feature47</th>\n",
       "      <th>feature48</th>\n",
       "      <th>feature49</th>\n",
       "      <th>feature50</th>\n",
       "    </tr>\n",
       "    <tr>\n",
       "      <th>id</th>\n",
       "      <th></th>\n",
       "      <th></th>\n",
       "      <th></th>\n",
       "      <th></th>\n",
       "      <th></th>\n",
       "      <th></th>\n",
       "      <th></th>\n",
       "      <th></th>\n",
       "      <th></th>\n",
       "      <th></th>\n",
       "      <th></th>\n",
       "      <th></th>\n",
       "      <th></th>\n",
       "      <th></th>\n",
       "      <th></th>\n",
       "      <th></th>\n",
       "      <th></th>\n",
       "      <th></th>\n",
       "      <th></th>\n",
       "      <th></th>\n",
       "      <th></th>\n",
       "    </tr>\n",
       "  </thead>\n",
       "  <tbody>\n",
       "    <tr>\n",
       "      <th>n2b2e3dd163cb422</th>\n",
       "      <td>1.0</td>\n",
       "      <td>0.43487</td>\n",
       "      <td>0.44645</td>\n",
       "      <td>0.25802</td>\n",
       "      <td>0.37149</td>\n",
       "      <td>0.62235</td>\n",
       "      <td>0.67451</td>\n",
       "      <td>0.68103</td>\n",
       "      <td>0.45166</td>\n",
       "      <td>0.82443</td>\n",
       "      <td>...</td>\n",
       "      <td>0.47780</td>\n",
       "      <td>0.52962</td>\n",
       "      <td>0.42439</td>\n",
       "      <td>0.51680</td>\n",
       "      <td>0.46297</td>\n",
       "      <td>0.57426</td>\n",
       "      <td>0.57946</td>\n",
       "      <td>0.49646</td>\n",
       "      <td>0.48968</td>\n",
       "      <td>0.54194</td>\n",
       "    </tr>\n",
       "    <tr>\n",
       "      <th>n177021a571c94c8</th>\n",
       "      <td>1.0</td>\n",
       "      <td>0.50038</td>\n",
       "      <td>0.39216</td>\n",
       "      <td>0.38394</td>\n",
       "      <td>0.51213</td>\n",
       "      <td>0.36660</td>\n",
       "      <td>0.46911</td>\n",
       "      <td>0.68204</td>\n",
       "      <td>0.61320</td>\n",
       "      <td>0.39951</td>\n",
       "      <td>...</td>\n",
       "      <td>0.56354</td>\n",
       "      <td>0.51669</td>\n",
       "      <td>0.48445</td>\n",
       "      <td>0.57587</td>\n",
       "      <td>0.59860</td>\n",
       "      <td>0.67558</td>\n",
       "      <td>0.45577</td>\n",
       "      <td>0.80908</td>\n",
       "      <td>0.50287</td>\n",
       "      <td>0.61629</td>\n",
       "    </tr>\n",
       "    <tr>\n",
       "      <th>n7830fa4c0cd8466</th>\n",
       "      <td>1.0</td>\n",
       "      <td>0.47416</td>\n",
       "      <td>0.34143</td>\n",
       "      <td>0.39528</td>\n",
       "      <td>0.46337</td>\n",
       "      <td>0.72953</td>\n",
       "      <td>0.45962</td>\n",
       "      <td>0.47869</td>\n",
       "      <td>0.68118</td>\n",
       "      <td>0.57239</td>\n",
       "      <td>...</td>\n",
       "      <td>0.57118</td>\n",
       "      <td>0.41458</td>\n",
       "      <td>0.34804</td>\n",
       "      <td>0.29058</td>\n",
       "      <td>0.51382</td>\n",
       "      <td>0.36389</td>\n",
       "      <td>0.80602</td>\n",
       "      <td>0.39253</td>\n",
       "      <td>0.41821</td>\n",
       "      <td>0.58679</td>\n",
       "    </tr>\n",
       "    <tr>\n",
       "      <th>nc594a184cee941b</th>\n",
       "      <td>1.0</td>\n",
       "      <td>0.48759</td>\n",
       "      <td>0.55903</td>\n",
       "      <td>0.43987</td>\n",
       "      <td>0.38834</td>\n",
       "      <td>0.44650</td>\n",
       "      <td>0.46389</td>\n",
       "      <td>0.70749</td>\n",
       "      <td>0.63182</td>\n",
       "      <td>0.36395</td>\n",
       "      <td>...</td>\n",
       "      <td>0.72995</td>\n",
       "      <td>0.28776</td>\n",
       "      <td>0.42881</td>\n",
       "      <td>0.55402</td>\n",
       "      <td>0.53695</td>\n",
       "      <td>0.48793</td>\n",
       "      <td>0.62432</td>\n",
       "      <td>0.52898</td>\n",
       "      <td>0.49009</td>\n",
       "      <td>0.49557</td>\n",
       "    </tr>\n",
       "    <tr>\n",
       "      <th>nc5ab8667901946a</th>\n",
       "      <td>1.0</td>\n",
       "      <td>0.23433</td>\n",
       "      <td>0.55499</td>\n",
       "      <td>0.47849</td>\n",
       "      <td>0.56990</td>\n",
       "      <td>0.64945</td>\n",
       "      <td>0.47152</td>\n",
       "      <td>0.62085</td>\n",
       "      <td>0.57626</td>\n",
       "      <td>0.50469</td>\n",
       "      <td>...</td>\n",
       "      <td>0.51905</td>\n",
       "      <td>0.64405</td>\n",
       "      <td>0.32416</td>\n",
       "      <td>0.33193</td>\n",
       "      <td>0.58065</td>\n",
       "      <td>0.44587</td>\n",
       "      <td>0.47770</td>\n",
       "      <td>0.44020</td>\n",
       "      <td>0.47895</td>\n",
       "      <td>0.57978</td>\n",
       "    </tr>\n",
       "  </tbody>\n",
       "</table>\n",
       "<p>5 rows × 51 columns</p>\n",
       "</div>"
      ],
      "text/plain": [
       "                  era  feature1  feature2  feature3  feature4  feature5  \\\n",
       "id                                                                        \n",
       "n2b2e3dd163cb422  1.0   0.43487   0.44645   0.25802   0.37149   0.62235   \n",
       "n177021a571c94c8  1.0   0.50038   0.39216   0.38394   0.51213   0.36660   \n",
       "n7830fa4c0cd8466  1.0   0.47416   0.34143   0.39528   0.46337   0.72953   \n",
       "nc594a184cee941b  1.0   0.48759   0.55903   0.43987   0.38834   0.44650   \n",
       "nc5ab8667901946a  1.0   0.23433   0.55499   0.47849   0.56990   0.64945   \n",
       "\n",
       "                  feature6  feature7  feature8  feature9    ...      \\\n",
       "id                                                          ...       \n",
       "n2b2e3dd163cb422   0.67451   0.68103   0.45166   0.82443    ...       \n",
       "n177021a571c94c8   0.46911   0.68204   0.61320   0.39951    ...       \n",
       "n7830fa4c0cd8466   0.45962   0.47869   0.68118   0.57239    ...       \n",
       "nc594a184cee941b   0.46389   0.70749   0.63182   0.36395    ...       \n",
       "nc5ab8667901946a   0.47152   0.62085   0.57626   0.50469    ...       \n",
       "\n",
       "                  feature41  feature42  feature43  feature44  feature45  \\\n",
       "id                                                                        \n",
       "n2b2e3dd163cb422    0.47780    0.52962    0.42439    0.51680    0.46297   \n",
       "n177021a571c94c8    0.56354    0.51669    0.48445    0.57587    0.59860   \n",
       "n7830fa4c0cd8466    0.57118    0.41458    0.34804    0.29058    0.51382   \n",
       "nc594a184cee941b    0.72995    0.28776    0.42881    0.55402    0.53695   \n",
       "nc5ab8667901946a    0.51905    0.64405    0.32416    0.33193    0.58065   \n",
       "\n",
       "                  feature46  feature47  feature48  feature49  feature50  \n",
       "id                                                                       \n",
       "n2b2e3dd163cb422    0.57426    0.57946    0.49646    0.48968    0.54194  \n",
       "n177021a571c94c8    0.67558    0.45577    0.80908    0.50287    0.61629  \n",
       "n7830fa4c0cd8466    0.36389    0.80602    0.39253    0.41821    0.58679  \n",
       "nc594a184cee941b    0.48793    0.62432    0.52898    0.49009    0.49557  \n",
       "nc5ab8667901946a    0.44587    0.47770    0.44020    0.47895    0.57978  \n",
       "\n",
       "[5 rows x 51 columns]"
      ]
     },
     "execution_count": 15,
     "metadata": {},
     "output_type": "execute_result"
    }
   ],
   "source": [
    "X_train.head()"
   ]
  },
  {
   "cell_type": "code",
   "execution_count": 16,
   "metadata": {},
   "outputs": [
    {
     "data": {
      "text/html": [
       "<div>\n",
       "<style scoped>\n",
       "    .dataframe tbody tr th:only-of-type {\n",
       "        vertical-align: middle;\n",
       "    }\n",
       "\n",
       "    .dataframe tbody tr th {\n",
       "        vertical-align: top;\n",
       "    }\n",
       "\n",
       "    .dataframe thead th {\n",
       "        text-align: right;\n",
       "    }\n",
       "</style>\n",
       "<table border=\"1\" class=\"dataframe\">\n",
       "  <thead>\n",
       "    <tr style=\"text-align: right;\">\n",
       "      <th></th>\n",
       "      <th>era</th>\n",
       "      <th>target</th>\n",
       "    </tr>\n",
       "    <tr>\n",
       "      <th>id</th>\n",
       "      <th></th>\n",
       "      <th></th>\n",
       "    </tr>\n",
       "  </thead>\n",
       "  <tbody>\n",
       "    <tr>\n",
       "      <th>n2b2e3dd163cb422</th>\n",
       "      <td>1.0</td>\n",
       "      <td>1.0</td>\n",
       "    </tr>\n",
       "    <tr>\n",
       "      <th>n177021a571c94c8</th>\n",
       "      <td>1.0</td>\n",
       "      <td>0.0</td>\n",
       "    </tr>\n",
       "    <tr>\n",
       "      <th>n7830fa4c0cd8466</th>\n",
       "      <td>1.0</td>\n",
       "      <td>0.0</td>\n",
       "    </tr>\n",
       "    <tr>\n",
       "      <th>nc594a184cee941b</th>\n",
       "      <td>1.0</td>\n",
       "      <td>0.0</td>\n",
       "    </tr>\n",
       "    <tr>\n",
       "      <th>nc5ab8667901946a</th>\n",
       "      <td>1.0</td>\n",
       "      <td>0.0</td>\n",
       "    </tr>\n",
       "  </tbody>\n",
       "</table>\n",
       "</div>"
      ],
      "text/plain": [
       "                  era  target\n",
       "id                           \n",
       "n2b2e3dd163cb422  1.0     1.0\n",
       "n177021a571c94c8  1.0     0.0\n",
       "n7830fa4c0cd8466  1.0     0.0\n",
       "nc594a184cee941b  1.0     0.0\n",
       "nc5ab8667901946a  1.0     0.0"
      ]
     },
     "execution_count": 16,
     "metadata": {},
     "output_type": "execute_result"
    }
   ],
   "source": [
    "y_train = df.loc[df['data_type'] == 'train', ['era','target']]\n",
    "y_train.head()"
   ]
  },
  {
   "cell_type": "code",
   "execution_count": 17,
   "metadata": {},
   "outputs": [],
   "source": [
    "from sklearn.model_selection import GroupKFold"
   ]
  },
  {
   "cell_type": "code",
   "execution_count": 18,
   "metadata": {},
   "outputs": [],
   "source": [
    "gkf = GroupKFold(n_splits=12)\n",
    "gkf_split = gkf.split(X_train, y_train, groups=X_train['era'])\n",
    "\n",
    "X_split = []\n",
    "y_split = []\n",
    "\n",
    "for split in gkf_split:\n",
    "    X_split.append(split[0])\n",
    "    y_split.append(split[1])\n",
    "    \n",
    "splits = zip(X_split, y_split)"
   ]
  },
  {
   "cell_type": "code",
   "execution_count": 19,
   "metadata": {},
   "outputs": [],
   "source": [
    "splits = [(split1, split2) for split1, split2 in splits]"
   ]
  },
  {
   "cell_type": "code",
   "execution_count": 20,
   "metadata": {},
   "outputs": [
    {
     "name": "stdout",
     "output_type": "stream",
     "text": [
      "0.09186509697749767\n",
      "0.09118404528707783\n",
      "0.09213775575323385\n",
      "0.09116287063937371\n",
      "0.08977922732331818\n",
      "0.09118707030383677\n",
      "0.08982750505302212\n",
      "0.09178938258797685\n",
      "0.0895590144466989\n",
      "0.09150479042746419\n",
      "0.09019576344419579\n",
      "0.09072443768306301\n"
     ]
    }
   ],
   "source": [
    "for split_x, split_y in splits:\n",
    "    print(len(split_y)/len(split_x))"
   ]
  },
  {
   "cell_type": "code",
   "execution_count": 21,
   "metadata": {},
   "outputs": [],
   "source": [
    "X_split_train = []\n",
    "y_split_train = []\n",
    "X_split_test = []\n",
    "y_split_test = []\n",
    "\n",
    "gkf = GroupKFold(n_splits=10)\n",
    "for train, test in gkf.split(X_train, y_train, groups=X_train['era']):\n",
    "    X_split_train.append(X_train.iloc[train])\n",
    "    y_split_train.append(y_train.iloc[train])\n",
    "    X_split_test.append(X_train.iloc[test])\n",
    "    y_split_test.append(y_train.iloc[test])"
   ]
  },
  {
   "cell_type": "code",
   "execution_count": null,
   "metadata": {},
   "outputs": [],
   "source": []
  },
  {
   "cell_type": "code",
   "execution_count": 22,
   "metadata": {},
   "outputs": [],
   "source": [
    "from sklearn.linear_model import LogisticRegression\n",
    "log_reg_model = LogisticRegression()"
   ]
  },
  {
   "cell_type": "markdown",
   "metadata": {},
   "source": [
    "The following is done with cross_val_score"
   ]
  },
  {
   "cell_type": "markdown",
   "metadata": {
    "scrolled": false
   },
   "source": [
    "for i in range(0,10):\n",
    "    \n",
    "    log_reg_model.fit(X_split_train[i].drop('era', axis=1), y_split_train[i]['target'])\n",
    "    score = log_reg_model.score(X_split_test[i].drop('era', axis=1), y_split_test[i]['target'])\n",
    "    print(score)"
   ]
  },
  {
   "cell_type": "code",
   "execution_count": 23,
   "metadata": {},
   "outputs": [],
   "source": [
    "from sklearn.model_selection import cross_val_score\n",
    "cv = gkf.split(X_train, y_train, groups=X_train['era'])\n",
    "#cv_score = cross_val_score(log_reg_model, X_train.drop('era', axis=1), y_train['target'], cv=cv, scoring='neg_log_loss') "
   ]
  },
  {
   "cell_type": "code",
   "execution_count": 24,
   "metadata": {},
   "outputs": [],
   "source": [
    "from sklearn.model_selection import GroupKFold\n",
    "from sklearn.linear_model import LogisticRegression\n",
    "from sklearn.linear_model import LogisticRegressionCV\n",
    "from sklearn.model_selection import cross_val_score\n",
    "from sklearn.metrics import log_loss\n",
    "\n",
    "lg = LogisticRegression()\n",
    "cv = gkf.split(X_train, y_train, groups=X_train['era'])\n",
    "#cv_log_loss = cross_val_score(lg, X_train.drop('era', axis=1), y_train['target'], cv=cv, scoring='neg_log_loss') "
   ]
  },
  {
   "cell_type": "code",
   "execution_count": 25,
   "metadata": {},
   "outputs": [],
   "source": [
    "def create_submission(df_predict_feat, model, filename='predictions.csv'):\n",
    "    submission = pd.DataFrame()\n",
    "    submission['id'] = df_predict_feat.index\n",
    "    submission['probability'] = model.predict_proba(df_predict_feat)[:,1]\n",
    "    submission.to_csv(filename,index=None)"
   ]
  },
  {
   "cell_type": "code",
   "execution_count": 26,
   "metadata": {},
   "outputs": [],
   "source": [
    "import logging\n",
    "# setup logger\n",
    "log_fmt = '%(asctime)s - %(levelname)s - %(message)s'\n",
    "logging.basicConfig(level=logging.DEBUG, format=log_fmt)\n",
    "logger = logging.getLogger()\n",
    "logger.handlers[0].stream = sys.stdout"
   ]
  },
  {
   "cell_type": "code",
   "execution_count": 27,
   "metadata": {},
   "outputs": [
    {
     "name": "stdout",
     "output_type": "stream",
     "text": [
      "2018-01-28 11:03:01,172 - INFO - Fitting model\n",
      "2018-01-28 11:03:17,190 - INFO - Model fit\n",
      "2018-01-28 11:03:17,191 - INFO - Creating submission\n",
      "2018-01-28 11:03:17,849 - INFO - Submission created\n"
     ]
    },
    {
     "data": {
      "text/plain": [
       "\"\\nsubmission = pd.DataFrame()\\nsubmission['id'] = df_prediction.index\\nsubmission['probability'] = lg_baseline.predict_proba(df_prediction)[:,1]\\nsubmission.to_csv('predictions_baseline.csv',index=None)\\n\""
      ]
     },
     "execution_count": 27,
     "metadata": {},
     "output_type": "execute_result"
    }
   ],
   "source": [
    "lg_baseline = LogisticRegression()\n",
    "logger.info('Fitting model')\n",
    "lg_baseline.fit(X_train.drop('era', axis=1),y_train['target'])\n",
    "logger.info('Model fit')\n",
    "logger.info('Creating submission')\n",
    "create_submission(df_prediction, lg_baseline, 'predictions_baseline.csv')\n",
    "logger.info('Submission created')\n",
    "\"\"\"\n",
    "submission = pd.DataFrame()\n",
    "submission['id'] = df_prediction.index\n",
    "submission['probability'] = lg_baseline.predict_proba(df_prediction)[:,1]\n",
    "submission.to_csv('predictions_baseline.csv',index=None)\n",
    "\"\"\"\n"
   ]
  },
  {
   "cell_type": "code",
   "execution_count": 28,
   "metadata": {},
   "outputs": [],
   "source": [
    "def get_validation_log_loss(model, df):\n",
    "    df_validation_predict = df.loc[df['data_type'] == 'validation','feature1':'feature50']\n",
    "    df_validation_target = df.loc[df['data_type'] == 'validation','target']\n",
    "    validation_prediction = model.predict_proba(df_validation_predict)\n",
    "    return log_loss(df_validation_target, validation_prediction)\n",
    "    "
   ]
  },
  {
   "cell_type": "code",
   "execution_count": 29,
   "metadata": {},
   "outputs": [
    {
     "data": {
      "text/plain": [
       "0.6929459596319582"
      ]
     },
     "execution_count": 29,
     "metadata": {},
     "output_type": "execute_result"
    }
   ],
   "source": [
    "baseline_logloss = get_validation_log_loss(lg_baseline, df)\n",
    "baseline_logloss"
   ]
  },
  {
   "cell_type": "code",
   "execution_count": 30,
   "metadata": {},
   "outputs": [
    {
     "name": "stdout",
     "output_type": "stream",
     "text": [
      "2018-01-28 11:03:17,990 - INFO - Starting model fit\n",
      "2018-01-28 11:06:18,937 - INFO - Model fitted\n"
     ]
    }
   ],
   "source": [
    "cv = gkf.split(X_train, y_train, groups=X_train['era'])\n",
    "lg_group = LogisticRegressionCV(cv=cv)\n",
    "logger.info('Starting model fit')\n",
    "lg_group.fit(X_train.drop('era', axis=1), y_train['target'])\n",
    "logger.info('Model fitted')"
   ]
  },
  {
   "cell_type": "code",
   "execution_count": 31,
   "metadata": {},
   "outputs": [
    {
     "data": {
      "text/plain": [
       "0.6925454807645468"
      ]
     },
     "execution_count": 31,
     "metadata": {},
     "output_type": "execute_result"
    }
   ],
   "source": [
    "group_logloss = get_validation_log_loss(lg_group, df)\n",
    "group_logloss"
   ]
  },
  {
   "cell_type": "code",
   "execution_count": 32,
   "metadata": {},
   "outputs": [
    {
     "data": {
      "text/plain": [
       "-0.05782708551779613"
      ]
     },
     "execution_count": 32,
     "metadata": {},
     "output_type": "execute_result"
    }
   ],
   "source": [
    "(group_logloss-baseline_logloss)/group_logloss*100"
   ]
  },
  {
   "cell_type": "code",
   "execution_count": 33,
   "metadata": {},
   "outputs": [],
   "source": [
    "create_submission(df_prediction, lg_group, 'predictions_groupkfold.csv')"
   ]
  },
  {
   "cell_type": "code",
   "execution_count": 39,
   "metadata": {},
   "outputs": [
    {
     "name": "stdout",
     "output_type": "stream",
     "text": [
      "2018-01-28 19:47:29,729 - INFO - Fitting model\n",
      "2018-01-28 19:56:49,136 - INFO - Model fit\n"
     ]
    },
    {
     "data": {
      "text/plain": [
       "0.6926281272932799"
      ]
     },
     "execution_count": 39,
     "metadata": {},
     "output_type": "execute_result"
    }
   ],
   "source": [
    "from sklearn.ensemble import RandomForestClassifier\n",
    "rfc = RandomForestClassifier(n_jobs=-1, n_estimators=500,max_leaf_nodes=15)\n",
    "logger.info('Fitting model')\n",
    "rfc.fit(X_train.drop('era', axis=1),y_train['target'])\n",
    "logger.info('Model fit')\n",
    "rfc_logloss = get_validation_log_loss(rfc, df)\n",
    "rfc_logloss"
   ]
  },
  {
   "cell_type": "code",
   "execution_count": 37,
   "metadata": {},
   "outputs": [
    {
     "data": {
      "text/plain": [
       "0.7809569239067203"
      ]
     },
     "execution_count": 37,
     "metadata": {},
     "output_type": "execute_result"
    }
   ],
   "source": []
  },
  {
   "cell_type": "markdown",
   "metadata": {},
   "source": [
    "0.7809569239067203 with default\n",
    "0.6926539978867465 with n_estimators=1000,max_leaf_nodes=15\n",
    "0.6926281272932799\n"
   ]
  },
  {
   "cell_type": "code",
   "execution_count": 43,
   "metadata": {},
   "outputs": [
    {
     "name": "stdout",
     "output_type": "stream",
     "text": [
      "2018-01-28 21:18:10,173 - INFO - Starting model fit\n"
     ]
    },
    {
     "ename": "KeyboardInterrupt",
     "evalue": "",
     "output_type": "error",
     "traceback": [
      "\u001b[0;31m---------------------------------------------------------------------------\u001b[0m",
      "\u001b[0;31mKeyboardInterrupt\u001b[0m                         Traceback (most recent call last)",
      "\u001b[0;32m<ipython-input-43-52152bdd1900>\u001b[0m in \u001b[0;36m<module>\u001b[0;34m()\u001b[0m\n\u001b[1;32m      9\u001b[0m \u001b[0mCV_rfc\u001b[0m \u001b[0;34m=\u001b[0m \u001b[0mGridSearchCV\u001b[0m\u001b[0;34m(\u001b[0m\u001b[0mn_jobs\u001b[0m\u001b[0;34m=\u001b[0m\u001b[0;36m8\u001b[0m\u001b[0;34m,\u001b[0m \u001b[0mestimator\u001b[0m\u001b[0;34m=\u001b[0m\u001b[0mrfc\u001b[0m\u001b[0;34m,\u001b[0m \u001b[0mparam_grid\u001b[0m\u001b[0;34m=\u001b[0m\u001b[0mparam_grid\u001b[0m\u001b[0;34m,\u001b[0m \u001b[0mcv\u001b[0m\u001b[0;34m=\u001b[0m\u001b[0mcv\u001b[0m\u001b[0;34m)\u001b[0m\u001b[0;34m\u001b[0m\u001b[0m\n\u001b[1;32m     10\u001b[0m \u001b[0mlogger\u001b[0m\u001b[0;34m.\u001b[0m\u001b[0minfo\u001b[0m\u001b[0;34m(\u001b[0m\u001b[0;34m'Starting model fit'\u001b[0m\u001b[0;34m)\u001b[0m\u001b[0;34m\u001b[0m\u001b[0m\n\u001b[0;32m---> 11\u001b[0;31m \u001b[0mCV_rfc\u001b[0m\u001b[0;34m.\u001b[0m\u001b[0mfit\u001b[0m\u001b[0;34m(\u001b[0m\u001b[0mX_train\u001b[0m\u001b[0;34m.\u001b[0m\u001b[0mdrop\u001b[0m\u001b[0;34m(\u001b[0m\u001b[0;34m'era'\u001b[0m\u001b[0;34m,\u001b[0m \u001b[0maxis\u001b[0m\u001b[0;34m=\u001b[0m\u001b[0;36m1\u001b[0m\u001b[0;34m)\u001b[0m\u001b[0;34m,\u001b[0m \u001b[0my_train\u001b[0m\u001b[0;34m[\u001b[0m\u001b[0;34m'target'\u001b[0m\u001b[0;34m]\u001b[0m\u001b[0;34m)\u001b[0m\u001b[0;34m\u001b[0m\u001b[0m\n\u001b[0m\u001b[1;32m     12\u001b[0m \u001b[0mlogger\u001b[0m\u001b[0;34m.\u001b[0m\u001b[0minfo\u001b[0m\u001b[0;34m(\u001b[0m\u001b[0;34m'Model fitted'\u001b[0m\u001b[0;34m)\u001b[0m\u001b[0;34m\u001b[0m\u001b[0m\n\u001b[1;32m     13\u001b[0m \u001b[0mprint\u001b[0m \u001b[0;34m(\u001b[0m\u001b[0mCV_rfc\u001b[0m\u001b[0;34m.\u001b[0m\u001b[0mbest_params_\u001b[0m\u001b[0;34m)\u001b[0m\u001b[0;34m\u001b[0m\u001b[0m\n",
      "\u001b[0;32m~/Envs/learning_numerai/lib/python3.6/site-packages/sklearn/model_selection/_search.py\u001b[0m in \u001b[0;36mfit\u001b[0;34m(self, X, y, groups, **fit_params)\u001b[0m\n\u001b[1;32m    637\u001b[0m                                   error_score=self.error_score)\n\u001b[1;32m    638\u001b[0m           for parameters, (train, test) in product(candidate_params,\n\u001b[0;32m--> 639\u001b[0;31m                                                    cv.split(X, y, groups)))\n\u001b[0m\u001b[1;32m    640\u001b[0m \u001b[0;34m\u001b[0m\u001b[0m\n\u001b[1;32m    641\u001b[0m         \u001b[0;31m# if one choose to see train score, \"out\" will contain train score info\u001b[0m\u001b[0;34m\u001b[0m\u001b[0;34m\u001b[0m\u001b[0m\n",
      "\u001b[0;32m~/Envs/learning_numerai/lib/python3.6/site-packages/sklearn/externals/joblib/parallel.py\u001b[0m in \u001b[0;36m__call__\u001b[0;34m(self, iterable)\u001b[0m\n\u001b[1;32m    787\u001b[0m                 \u001b[0;31m# consumption.\u001b[0m\u001b[0;34m\u001b[0m\u001b[0;34m\u001b[0m\u001b[0m\n\u001b[1;32m    788\u001b[0m                 \u001b[0mself\u001b[0m\u001b[0;34m.\u001b[0m\u001b[0m_iterating\u001b[0m \u001b[0;34m=\u001b[0m \u001b[0;32mFalse\u001b[0m\u001b[0;34m\u001b[0m\u001b[0m\n\u001b[0;32m--> 789\u001b[0;31m             \u001b[0mself\u001b[0m\u001b[0;34m.\u001b[0m\u001b[0mretrieve\u001b[0m\u001b[0;34m(\u001b[0m\u001b[0;34m)\u001b[0m\u001b[0;34m\u001b[0m\u001b[0m\n\u001b[0m\u001b[1;32m    790\u001b[0m             \u001b[0;31m# Make sure that we get a last message telling us we are done\u001b[0m\u001b[0;34m\u001b[0m\u001b[0;34m\u001b[0m\u001b[0m\n\u001b[1;32m    791\u001b[0m             \u001b[0melapsed_time\u001b[0m \u001b[0;34m=\u001b[0m \u001b[0mtime\u001b[0m\u001b[0;34m.\u001b[0m\u001b[0mtime\u001b[0m\u001b[0;34m(\u001b[0m\u001b[0;34m)\u001b[0m \u001b[0;34m-\u001b[0m \u001b[0mself\u001b[0m\u001b[0;34m.\u001b[0m\u001b[0m_start_time\u001b[0m\u001b[0;34m\u001b[0m\u001b[0m\n",
      "\u001b[0;32m~/Envs/learning_numerai/lib/python3.6/site-packages/sklearn/externals/joblib/parallel.py\u001b[0m in \u001b[0;36mretrieve\u001b[0;34m(self)\u001b[0m\n\u001b[1;32m    697\u001b[0m             \u001b[0;32mtry\u001b[0m\u001b[0;34m:\u001b[0m\u001b[0;34m\u001b[0m\u001b[0m\n\u001b[1;32m    698\u001b[0m                 \u001b[0;32mif\u001b[0m \u001b[0mgetattr\u001b[0m\u001b[0;34m(\u001b[0m\u001b[0mself\u001b[0m\u001b[0;34m.\u001b[0m\u001b[0m_backend\u001b[0m\u001b[0;34m,\u001b[0m \u001b[0;34m'supports_timeout'\u001b[0m\u001b[0;34m,\u001b[0m \u001b[0;32mFalse\u001b[0m\u001b[0;34m)\u001b[0m\u001b[0;34m:\u001b[0m\u001b[0;34m\u001b[0m\u001b[0m\n\u001b[0;32m--> 699\u001b[0;31m                     \u001b[0mself\u001b[0m\u001b[0;34m.\u001b[0m\u001b[0m_output\u001b[0m\u001b[0;34m.\u001b[0m\u001b[0mextend\u001b[0m\u001b[0;34m(\u001b[0m\u001b[0mjob\u001b[0m\u001b[0;34m.\u001b[0m\u001b[0mget\u001b[0m\u001b[0;34m(\u001b[0m\u001b[0mtimeout\u001b[0m\u001b[0;34m=\u001b[0m\u001b[0mself\u001b[0m\u001b[0;34m.\u001b[0m\u001b[0mtimeout\u001b[0m\u001b[0;34m)\u001b[0m\u001b[0;34m)\u001b[0m\u001b[0;34m\u001b[0m\u001b[0m\n\u001b[0m\u001b[1;32m    700\u001b[0m                 \u001b[0;32melse\u001b[0m\u001b[0;34m:\u001b[0m\u001b[0;34m\u001b[0m\u001b[0m\n\u001b[1;32m    701\u001b[0m                     \u001b[0mself\u001b[0m\u001b[0;34m.\u001b[0m\u001b[0m_output\u001b[0m\u001b[0;34m.\u001b[0m\u001b[0mextend\u001b[0m\u001b[0;34m(\u001b[0m\u001b[0mjob\u001b[0m\u001b[0;34m.\u001b[0m\u001b[0mget\u001b[0m\u001b[0;34m(\u001b[0m\u001b[0;34m)\u001b[0m\u001b[0;34m)\u001b[0m\u001b[0;34m\u001b[0m\u001b[0m\n",
      "\u001b[0;32m~/miniconda3/lib/python3.6/multiprocessing/pool.py\u001b[0m in \u001b[0;36mget\u001b[0;34m(self, timeout)\u001b[0m\n\u001b[1;32m    636\u001b[0m \u001b[0;34m\u001b[0m\u001b[0m\n\u001b[1;32m    637\u001b[0m     \u001b[0;32mdef\u001b[0m \u001b[0mget\u001b[0m\u001b[0;34m(\u001b[0m\u001b[0mself\u001b[0m\u001b[0;34m,\u001b[0m \u001b[0mtimeout\u001b[0m\u001b[0;34m=\u001b[0m\u001b[0;32mNone\u001b[0m\u001b[0;34m)\u001b[0m\u001b[0;34m:\u001b[0m\u001b[0;34m\u001b[0m\u001b[0m\n\u001b[0;32m--> 638\u001b[0;31m         \u001b[0mself\u001b[0m\u001b[0;34m.\u001b[0m\u001b[0mwait\u001b[0m\u001b[0;34m(\u001b[0m\u001b[0mtimeout\u001b[0m\u001b[0;34m)\u001b[0m\u001b[0;34m\u001b[0m\u001b[0m\n\u001b[0m\u001b[1;32m    639\u001b[0m         \u001b[0;32mif\u001b[0m \u001b[0;32mnot\u001b[0m \u001b[0mself\u001b[0m\u001b[0;34m.\u001b[0m\u001b[0mready\u001b[0m\u001b[0;34m(\u001b[0m\u001b[0;34m)\u001b[0m\u001b[0;34m:\u001b[0m\u001b[0;34m\u001b[0m\u001b[0m\n\u001b[1;32m    640\u001b[0m             \u001b[0;32mraise\u001b[0m \u001b[0mTimeoutError\u001b[0m\u001b[0;34m\u001b[0m\u001b[0m\n",
      "\u001b[0;32m~/miniconda3/lib/python3.6/multiprocessing/pool.py\u001b[0m in \u001b[0;36mwait\u001b[0;34m(self, timeout)\u001b[0m\n\u001b[1;32m    633\u001b[0m \u001b[0;34m\u001b[0m\u001b[0m\n\u001b[1;32m    634\u001b[0m     \u001b[0;32mdef\u001b[0m \u001b[0mwait\u001b[0m\u001b[0;34m(\u001b[0m\u001b[0mself\u001b[0m\u001b[0;34m,\u001b[0m \u001b[0mtimeout\u001b[0m\u001b[0;34m=\u001b[0m\u001b[0;32mNone\u001b[0m\u001b[0;34m)\u001b[0m\u001b[0;34m:\u001b[0m\u001b[0;34m\u001b[0m\u001b[0m\n\u001b[0;32m--> 635\u001b[0;31m         \u001b[0mself\u001b[0m\u001b[0;34m.\u001b[0m\u001b[0m_event\u001b[0m\u001b[0;34m.\u001b[0m\u001b[0mwait\u001b[0m\u001b[0;34m(\u001b[0m\u001b[0mtimeout\u001b[0m\u001b[0;34m)\u001b[0m\u001b[0;34m\u001b[0m\u001b[0m\n\u001b[0m\u001b[1;32m    636\u001b[0m \u001b[0;34m\u001b[0m\u001b[0m\n\u001b[1;32m    637\u001b[0m     \u001b[0;32mdef\u001b[0m \u001b[0mget\u001b[0m\u001b[0;34m(\u001b[0m\u001b[0mself\u001b[0m\u001b[0;34m,\u001b[0m \u001b[0mtimeout\u001b[0m\u001b[0;34m=\u001b[0m\u001b[0;32mNone\u001b[0m\u001b[0;34m)\u001b[0m\u001b[0;34m:\u001b[0m\u001b[0;34m\u001b[0m\u001b[0m\n",
      "\u001b[0;32m~/miniconda3/lib/python3.6/threading.py\u001b[0m in \u001b[0;36mwait\u001b[0;34m(self, timeout)\u001b[0m\n\u001b[1;32m    549\u001b[0m             \u001b[0msignaled\u001b[0m \u001b[0;34m=\u001b[0m \u001b[0mself\u001b[0m\u001b[0;34m.\u001b[0m\u001b[0m_flag\u001b[0m\u001b[0;34m\u001b[0m\u001b[0m\n\u001b[1;32m    550\u001b[0m             \u001b[0;32mif\u001b[0m \u001b[0;32mnot\u001b[0m \u001b[0msignaled\u001b[0m\u001b[0;34m:\u001b[0m\u001b[0;34m\u001b[0m\u001b[0m\n\u001b[0;32m--> 551\u001b[0;31m                 \u001b[0msignaled\u001b[0m \u001b[0;34m=\u001b[0m \u001b[0mself\u001b[0m\u001b[0;34m.\u001b[0m\u001b[0m_cond\u001b[0m\u001b[0;34m.\u001b[0m\u001b[0mwait\u001b[0m\u001b[0;34m(\u001b[0m\u001b[0mtimeout\u001b[0m\u001b[0;34m)\u001b[0m\u001b[0;34m\u001b[0m\u001b[0m\n\u001b[0m\u001b[1;32m    552\u001b[0m             \u001b[0;32mreturn\u001b[0m \u001b[0msignaled\u001b[0m\u001b[0;34m\u001b[0m\u001b[0m\n\u001b[1;32m    553\u001b[0m \u001b[0;34m\u001b[0m\u001b[0m\n",
      "\u001b[0;32m~/miniconda3/lib/python3.6/threading.py\u001b[0m in \u001b[0;36mwait\u001b[0;34m(self, timeout)\u001b[0m\n\u001b[1;32m    293\u001b[0m         \u001b[0;32mtry\u001b[0m\u001b[0;34m:\u001b[0m    \u001b[0;31m# restore state no matter what (e.g., KeyboardInterrupt)\u001b[0m\u001b[0;34m\u001b[0m\u001b[0m\n\u001b[1;32m    294\u001b[0m             \u001b[0;32mif\u001b[0m \u001b[0mtimeout\u001b[0m \u001b[0;32mis\u001b[0m \u001b[0;32mNone\u001b[0m\u001b[0;34m:\u001b[0m\u001b[0;34m\u001b[0m\u001b[0m\n\u001b[0;32m--> 295\u001b[0;31m                 \u001b[0mwaiter\u001b[0m\u001b[0;34m.\u001b[0m\u001b[0macquire\u001b[0m\u001b[0;34m(\u001b[0m\u001b[0;34m)\u001b[0m\u001b[0;34m\u001b[0m\u001b[0m\n\u001b[0m\u001b[1;32m    296\u001b[0m                 \u001b[0mgotit\u001b[0m \u001b[0;34m=\u001b[0m \u001b[0;32mTrue\u001b[0m\u001b[0;34m\u001b[0m\u001b[0m\n\u001b[1;32m    297\u001b[0m             \u001b[0;32melse\u001b[0m\u001b[0;34m:\u001b[0m\u001b[0;34m\u001b[0m\u001b[0m\n",
      "\u001b[0;31mKeyboardInterrupt\u001b[0m: "
     ]
    }
   ],
   "source": [
    "from sklearn.model_selection import GridSearchCV\n",
    "cv = gkf.split(X_train, y_train, groups=X_train['era'])\n",
    "param_grid = { \n",
    "    'n_estimators': [50, 100, 200],\n",
    "    'max_features': [10,20,30,40,50],\n",
    "    'max_leaf_nodes': [10,15,20,25,50]\n",
    "}\n",
    "rfc = RandomForestClassifier(n_jobs=-1, n_estimators=500,max_leaf_nodes=15)\n",
    "CV_rfc = GridSearchCV(n_jobs=8, estimator=rfc, param_grid=param_grid, cv=cv)\n",
    "logger.info('Starting model fit')\n",
    "CV_rfc.fit(X_train.drop('era', axis=1), y_train['target'])\n",
    "logger.info('Model fitted')\n",
    "print (CV_rfc.best_params_)"
   ]
  },
  {
   "cell_type": "code",
   "execution_count": null,
   "metadata": {},
   "outputs": [],
   "source": []
  }
 ],
 "metadata": {
  "kernelspec": {
   "display_name": "Python 3",
   "language": "python",
   "name": "python3"
  },
  "language_info": {
   "codemirror_mode": {
    "name": "ipython",
    "version": 3
   },
   "file_extension": ".py",
   "mimetype": "text/x-python",
   "name": "python",
   "nbconvert_exporter": "python",
   "pygments_lexer": "ipython3",
   "version": "3.6.4"
  }
 },
 "nbformat": 4,
 "nbformat_minor": 2
}
