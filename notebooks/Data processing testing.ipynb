{
 "cells": [
  {
   "cell_type": "code",
   "execution_count": 9,
   "metadata": {},
   "outputs": [],
   "source": [
    "import numpy as np\n",
    "import os\n",
    "import pandas as pd\n",
    "import pickle\n",
    "import sys\n",
    "sys.path.append('..')\n",
    "from src.tools import numerai_api\n",
    "\n",
    "from sklearn import preprocessing\n",
    "from sklearn.ensemble import RandomForestClassifier\n",
    "from sklearn.linear_model import LogisticRegression\n",
    "from sklearn.linear_model import LogisticRegressionCV\n",
    "from sklearn.metrics import log_loss\n",
    "from sklearn.model_selection import GroupKFold\n",
    "from sklearn.model_selection import GridSearchCV\n",
    "\n"
   ]
  },
  {
   "cell_type": "code",
   "execution_count": 2,
   "metadata": {},
   "outputs": [],
   "source": [
    "import logging\n",
    "# setup logger\n",
    "log_fmt = '%(asctime)s - %(levelname)s - %(message)s'\n",
    "logging.basicConfig(level=logging.DEBUG, format=log_fmt)\n",
    "logger = logging.getLogger()\n",
    "logger.handlers[0].stream = sys.stdout"
   ]
  },
  {
   "cell_type": "code",
   "execution_count": 3,
   "metadata": {},
   "outputs": [],
   "source": [
    "#round_number = numerai_api.get_current_round()\n",
    "round_number = 92"
   ]
  },
  {
   "cell_type": "code",
   "execution_count": 4,
   "metadata": {},
   "outputs": [],
   "source": [
    "raw_data_path = os.path.join(os.path.pardir,'data','raw')\n",
    "raw_data_file = os.path.join(raw_data_path, '{}_numerai_raw.pkl'.format(round_number))"
   ]
  },
  {
   "cell_type": "code",
   "execution_count": 5,
   "metadata": {},
   "outputs": [],
   "source": [
    "try:\n",
    "    df = pd.read_pickle(raw_data_file)\n",
    "except FileNotFoundError:\n",
    "    get_data = os.path.join(os.path.pardir, 'src', 'data', 'get_raw_data_binary.py')\n",
    "    !python $get_data\n",
    "    df = pd.read_pickle(raw_data_file)\n"
   ]
  },
  {
   "cell_type": "code",
   "execution_count": 6,
   "metadata": {},
   "outputs": [],
   "source": [
    "df_prediction = df.loc[(df['data_type'] == 'validation') | \n",
    "                       (df['data_type'] == 'test') | \n",
    "                       (df['data_type'] == 'live'), 'feature1':'feature50']\n",
    "\n",
    "df_validation_predict = df.loc[df['data_type'] == 'validation','feature1':'feature50']\n",
    "df_validation_target = df.loc[df['data_type'] == 'validation','target']\n",
    "\n",
    "X_train_era = df.loc[df['data_type'] == 'train', :].drop(['data_type','target'], axis=1)\n",
    "y_train_era = df.loc[df['data_type'] == 'train', ['era','target']]\n",
    "\n",
    "X_train = X_train_era.drop('era', axis=1)\n",
    "y_train = y_train_era['target']"
   ]
  },
  {
   "cell_type": "code",
   "execution_count": 27,
   "metadata": {},
   "outputs": [
    {
     "data": {
      "text/html": [
       "<div>\n",
       "<style scoped>\n",
       "    .dataframe tbody tr th:only-of-type {\n",
       "        vertical-align: middle;\n",
       "    }\n",
       "\n",
       "    .dataframe tbody tr th {\n",
       "        vertical-align: top;\n",
       "    }\n",
       "\n",
       "    .dataframe thead th {\n",
       "        text-align: right;\n",
       "    }\n",
       "</style>\n",
       "<table border=\"1\" class=\"dataframe\">\n",
       "  <thead>\n",
       "    <tr style=\"text-align: right;\">\n",
       "      <th></th>\n",
       "      <th>era</th>\n",
       "      <th>feature1</th>\n",
       "      <th>feature2</th>\n",
       "      <th>feature3</th>\n",
       "      <th>feature4</th>\n",
       "      <th>feature5</th>\n",
       "      <th>feature6</th>\n",
       "      <th>feature7</th>\n",
       "      <th>feature8</th>\n",
       "      <th>feature9</th>\n",
       "      <th>...</th>\n",
       "      <th>feature42</th>\n",
       "      <th>feature43</th>\n",
       "      <th>feature44</th>\n",
       "      <th>feature45</th>\n",
       "      <th>feature46</th>\n",
       "      <th>feature47</th>\n",
       "      <th>feature48</th>\n",
       "      <th>feature49</th>\n",
       "      <th>feature50</th>\n",
       "      <th>target</th>\n",
       "    </tr>\n",
       "  </thead>\n",
       "  <tbody>\n",
       "    <tr>\n",
       "      <th>count</th>\n",
       "      <td>439975.000000</td>\n",
       "      <td>637059.000000</td>\n",
       "      <td>637059.000000</td>\n",
       "      <td>637059.000000</td>\n",
       "      <td>637059.000000</td>\n",
       "      <td>637059.000000</td>\n",
       "      <td>637059.000000</td>\n",
       "      <td>637059.000000</td>\n",
       "      <td>637059.000000</td>\n",
       "      <td>637059.000000</td>\n",
       "      <td>...</td>\n",
       "      <td>637059.000000</td>\n",
       "      <td>637059.000000</td>\n",
       "      <td>637059.000000</td>\n",
       "      <td>637059.000000</td>\n",
       "      <td>637059.000000</td>\n",
       "      <td>637059.000000</td>\n",
       "      <td>637059.000000</td>\n",
       "      <td>637059.000000</td>\n",
       "      <td>637059.000000</td>\n",
       "      <td>439975.000000</td>\n",
       "    </tr>\n",
       "    <tr>\n",
       "      <th>mean</th>\n",
       "      <td>70.944031</td>\n",
       "      <td>0.467757</td>\n",
       "      <td>0.457622</td>\n",
       "      <td>0.481757</td>\n",
       "      <td>0.444981</td>\n",
       "      <td>0.509907</td>\n",
       "      <td>0.485412</td>\n",
       "      <td>0.524631</td>\n",
       "      <td>0.558609</td>\n",
       "      <td>0.517386</td>\n",
       "      <td>...</td>\n",
       "      <td>0.495068</td>\n",
       "      <td>0.483845</td>\n",
       "      <td>0.489083</td>\n",
       "      <td>0.531998</td>\n",
       "      <td>0.530655</td>\n",
       "      <td>0.519405</td>\n",
       "      <td>0.520415</td>\n",
       "      <td>0.494897</td>\n",
       "      <td>0.521751</td>\n",
       "      <td>0.499924</td>\n",
       "    </tr>\n",
       "    <tr>\n",
       "      <th>std</th>\n",
       "      <td>36.653202</td>\n",
       "      <td>0.132569</td>\n",
       "      <td>0.097887</td>\n",
       "      <td>0.115733</td>\n",
       "      <td>0.108651</td>\n",
       "      <td>0.113149</td>\n",
       "      <td>0.115652</td>\n",
       "      <td>0.122697</td>\n",
       "      <td>0.114173</td>\n",
       "      <td>0.101802</td>\n",
       "      <td>...</td>\n",
       "      <td>0.122445</td>\n",
       "      <td>0.121013</td>\n",
       "      <td>0.135080</td>\n",
       "      <td>0.115450</td>\n",
       "      <td>0.106860</td>\n",
       "      <td>0.112598</td>\n",
       "      <td>0.115769</td>\n",
       "      <td>0.109296</td>\n",
       "      <td>0.106412</td>\n",
       "      <td>0.500001</td>\n",
       "    </tr>\n",
       "    <tr>\n",
       "      <th>min</th>\n",
       "      <td>1.000000</td>\n",
       "      <td>0.000000</td>\n",
       "      <td>0.000000</td>\n",
       "      <td>0.000000</td>\n",
       "      <td>0.000000</td>\n",
       "      <td>0.000000</td>\n",
       "      <td>0.000000</td>\n",
       "      <td>0.000000</td>\n",
       "      <td>0.000000</td>\n",
       "      <td>0.000000</td>\n",
       "      <td>...</td>\n",
       "      <td>0.000000</td>\n",
       "      <td>0.000000</td>\n",
       "      <td>0.000000</td>\n",
       "      <td>0.000000</td>\n",
       "      <td>0.000000</td>\n",
       "      <td>0.000000</td>\n",
       "      <td>0.000000</td>\n",
       "      <td>0.000000</td>\n",
       "      <td>0.000000</td>\n",
       "      <td>0.000000</td>\n",
       "    </tr>\n",
       "    <tr>\n",
       "      <th>25%</th>\n",
       "      <td>41.000000</td>\n",
       "      <td>0.374850</td>\n",
       "      <td>0.392050</td>\n",
       "      <td>0.402510</td>\n",
       "      <td>0.372170</td>\n",
       "      <td>0.435180</td>\n",
       "      <td>0.405160</td>\n",
       "      <td>0.442150</td>\n",
       "      <td>0.483480</td>\n",
       "      <td>0.450515</td>\n",
       "      <td>...</td>\n",
       "      <td>0.412350</td>\n",
       "      <td>0.398450</td>\n",
       "      <td>0.396180</td>\n",
       "      <td>0.454690</td>\n",
       "      <td>0.456740</td>\n",
       "      <td>0.443430</td>\n",
       "      <td>0.441010</td>\n",
       "      <td>0.421020</td>\n",
       "      <td>0.450630</td>\n",
       "      <td>0.000000</td>\n",
       "    </tr>\n",
       "    <tr>\n",
       "      <th>50%</th>\n",
       "      <td>71.000000</td>\n",
       "      <td>0.466700</td>\n",
       "      <td>0.457100</td>\n",
       "      <td>0.479470</td>\n",
       "      <td>0.444460</td>\n",
       "      <td>0.513240</td>\n",
       "      <td>0.484780</td>\n",
       "      <td>0.527840</td>\n",
       "      <td>0.562920</td>\n",
       "      <td>0.519290</td>\n",
       "      <td>...</td>\n",
       "      <td>0.494980</td>\n",
       "      <td>0.479200</td>\n",
       "      <td>0.486030</td>\n",
       "      <td>0.535400</td>\n",
       "      <td>0.528360</td>\n",
       "      <td>0.519450</td>\n",
       "      <td>0.519670</td>\n",
       "      <td>0.495750</td>\n",
       "      <td>0.522750</td>\n",
       "      <td>0.000000</td>\n",
       "    </tr>\n",
       "    <tr>\n",
       "      <th>75%</th>\n",
       "      <td>103.000000</td>\n",
       "      <td>0.559240</td>\n",
       "      <td>0.522680</td>\n",
       "      <td>0.558780</td>\n",
       "      <td>0.516740</td>\n",
       "      <td>0.587670</td>\n",
       "      <td>0.564200</td>\n",
       "      <td>0.610040</td>\n",
       "      <td>0.638270</td>\n",
       "      <td>0.585910</td>\n",
       "      <td>...</td>\n",
       "      <td>0.577730</td>\n",
       "      <td>0.564510</td>\n",
       "      <td>0.579190</td>\n",
       "      <td>0.612260</td>\n",
       "      <td>0.602810</td>\n",
       "      <td>0.595320</td>\n",
       "      <td>0.599060</td>\n",
       "      <td>0.569750</td>\n",
       "      <td>0.593920</td>\n",
       "      <td>1.000000</td>\n",
       "    </tr>\n",
       "    <tr>\n",
       "      <th>max</th>\n",
       "      <td>132.000000</td>\n",
       "      <td>1.000000</td>\n",
       "      <td>1.000000</td>\n",
       "      <td>1.000000</td>\n",
       "      <td>1.000000</td>\n",
       "      <td>1.000000</td>\n",
       "      <td>1.000000</td>\n",
       "      <td>1.000000</td>\n",
       "      <td>1.000000</td>\n",
       "      <td>1.000000</td>\n",
       "      <td>...</td>\n",
       "      <td>1.000000</td>\n",
       "      <td>1.000000</td>\n",
       "      <td>1.000000</td>\n",
       "      <td>1.000000</td>\n",
       "      <td>1.000000</td>\n",
       "      <td>1.000000</td>\n",
       "      <td>1.000000</td>\n",
       "      <td>1.000000</td>\n",
       "      <td>1.000000</td>\n",
       "      <td>1.000000</td>\n",
       "    </tr>\n",
       "  </tbody>\n",
       "</table>\n",
       "<p>8 rows × 52 columns</p>\n",
       "</div>"
      ],
      "text/plain": [
       "                 era       feature1       feature2       feature3  \\\n",
       "count  439975.000000  637059.000000  637059.000000  637059.000000   \n",
       "mean       70.944031       0.467757       0.457622       0.481757   \n",
       "std        36.653202       0.132569       0.097887       0.115733   \n",
       "min         1.000000       0.000000       0.000000       0.000000   \n",
       "25%        41.000000       0.374850       0.392050       0.402510   \n",
       "50%        71.000000       0.466700       0.457100       0.479470   \n",
       "75%       103.000000       0.559240       0.522680       0.558780   \n",
       "max       132.000000       1.000000       1.000000       1.000000   \n",
       "\n",
       "            feature4       feature5       feature6       feature7  \\\n",
       "count  637059.000000  637059.000000  637059.000000  637059.000000   \n",
       "mean        0.444981       0.509907       0.485412       0.524631   \n",
       "std         0.108651       0.113149       0.115652       0.122697   \n",
       "min         0.000000       0.000000       0.000000       0.000000   \n",
       "25%         0.372170       0.435180       0.405160       0.442150   \n",
       "50%         0.444460       0.513240       0.484780       0.527840   \n",
       "75%         0.516740       0.587670       0.564200       0.610040   \n",
       "max         1.000000       1.000000       1.000000       1.000000   \n",
       "\n",
       "            feature8       feature9      ...            feature42  \\\n",
       "count  637059.000000  637059.000000      ...        637059.000000   \n",
       "mean        0.558609       0.517386      ...             0.495068   \n",
       "std         0.114173       0.101802      ...             0.122445   \n",
       "min         0.000000       0.000000      ...             0.000000   \n",
       "25%         0.483480       0.450515      ...             0.412350   \n",
       "50%         0.562920       0.519290      ...             0.494980   \n",
       "75%         0.638270       0.585910      ...             0.577730   \n",
       "max         1.000000       1.000000      ...             1.000000   \n",
       "\n",
       "           feature43      feature44      feature45      feature46  \\\n",
       "count  637059.000000  637059.000000  637059.000000  637059.000000   \n",
       "mean        0.483845       0.489083       0.531998       0.530655   \n",
       "std         0.121013       0.135080       0.115450       0.106860   \n",
       "min         0.000000       0.000000       0.000000       0.000000   \n",
       "25%         0.398450       0.396180       0.454690       0.456740   \n",
       "50%         0.479200       0.486030       0.535400       0.528360   \n",
       "75%         0.564510       0.579190       0.612260       0.602810   \n",
       "max         1.000000       1.000000       1.000000       1.000000   \n",
       "\n",
       "           feature47      feature48      feature49      feature50  \\\n",
       "count  637059.000000  637059.000000  637059.000000  637059.000000   \n",
       "mean        0.519405       0.520415       0.494897       0.521751   \n",
       "std         0.112598       0.115769       0.109296       0.106412   \n",
       "min         0.000000       0.000000       0.000000       0.000000   \n",
       "25%         0.443430       0.441010       0.421020       0.450630   \n",
       "50%         0.519450       0.519670       0.495750       0.522750   \n",
       "75%         0.595320       0.599060       0.569750       0.593920   \n",
       "max         1.000000       1.000000       1.000000       1.000000   \n",
       "\n",
       "              target  \n",
       "count  439975.000000  \n",
       "mean        0.499924  \n",
       "std         0.500001  \n",
       "min         0.000000  \n",
       "25%         0.000000  \n",
       "50%         0.000000  \n",
       "75%         1.000000  \n",
       "max         1.000000  \n",
       "\n",
       "[8 rows x 52 columns]"
      ]
     },
     "execution_count": 27,
     "metadata": {},
     "output_type": "execute_result"
    }
   ],
   "source": [
    "df.describe()"
   ]
  },
  {
   "cell_type": "markdown",
   "metadata": {},
   "source": [
    "The following is done with cross_val_score"
   ]
  },
  {
   "cell_type": "markdown",
   "metadata": {
    "scrolled": false
   },
   "source": [
    "for i in range(0,10):\n",
    "    \n",
    "    log_reg_model.fit(X_split_train[i].drop('era', axis=1), y_split_train[i]['target'])\n",
    "    score = log_reg_model.score(X_split_test[i].drop('era', axis=1), y_split_test[i]['target'])\n",
    "    print(score)"
   ]
  },
  {
   "cell_type": "code",
   "execution_count": 17,
   "metadata": {},
   "outputs": [
    {
     "ename": "NameError",
     "evalue": "name 'gkf' is not defined",
     "output_type": "error",
     "traceback": [
      "\u001b[1;31m---------------------------------------------------------------------------\u001b[0m",
      "\u001b[1;31mNameError\u001b[0m                                 Traceback (most recent call last)",
      "\u001b[1;32m<ipython-input-17-97bd9fad6a4f>\u001b[0m in \u001b[0;36m<module>\u001b[1;34m()\u001b[0m\n\u001b[0;32m      6\u001b[0m \u001b[1;33m\u001b[0m\u001b[0m\n\u001b[0;32m      7\u001b[0m \u001b[0mlg\u001b[0m \u001b[1;33m=\u001b[0m \u001b[0mLogisticRegression\u001b[0m\u001b[1;33m(\u001b[0m\u001b[1;33m)\u001b[0m\u001b[1;33m\u001b[0m\u001b[0m\n\u001b[1;32m----> 8\u001b[1;33m \u001b[0mcv\u001b[0m \u001b[1;33m=\u001b[0m \u001b[0mgkf\u001b[0m\u001b[1;33m.\u001b[0m\u001b[0msplit\u001b[0m\u001b[1;33m(\u001b[0m\u001b[0mX_train\u001b[0m\u001b[1;33m,\u001b[0m \u001b[0my_train\u001b[0m\u001b[1;33m,\u001b[0m \u001b[0mgroups\u001b[0m\u001b[1;33m=\u001b[0m\u001b[0mX_train\u001b[0m\u001b[1;33m[\u001b[0m\u001b[1;34m'era'\u001b[0m\u001b[1;33m]\u001b[0m\u001b[1;33m)\u001b[0m\u001b[1;33m\u001b[0m\u001b[0m\n\u001b[0m\u001b[0;32m      9\u001b[0m \u001b[1;31m#cv_log_loss = cross_val_score(lg, X_train.drop('era', axis=1), y_train['target'], cv=cv, scoring='neg_log_loss')\u001b[0m\u001b[1;33m\u001b[0m\u001b[1;33m\u001b[0m\u001b[0m\n",
      "\u001b[1;31mNameError\u001b[0m: name 'gkf' is not defined"
     ]
    }
   ],
   "source": [
    "lg = LogisticRegression()\n",
    "gkf = GroupKFold(n_splits=10)\n",
    "cv = gkf.split(X_train_era, y_train_era, groups=X_train_era['era'])\n",
    "#cv_log_loss = cross_val_score(lg, X_train.drop('era', axis=1), y_train['target'], cv=cv, scoring='neg_log_loss') "
   ]
  },
  {
   "cell_type": "code",
   "execution_count": 7,
   "metadata": {},
   "outputs": [],
   "source": [
    "def create_submission(df_predict_feat, model, filename='predictions.csv', filter_=np.empty(0)):\n",
    "    submission = pd.DataFrame()\n",
    "    submission['id'] = df_predict_feat.index\n",
    "    \n",
    "    if filter_.any():\n",
    "        df_predict_feat = df_predict_feat.drop(df_predict_feat.columns[filter_], axis=1)\n",
    "    submission['probability'] = model.predict_proba(df_predict_feat)[:,1]\n",
    "    submission.to_csv(filename,index=None)"
   ]
  },
  {
   "cell_type": "code",
   "execution_count": 8,
   "metadata": {},
   "outputs": [],
   "source": [
    "def get_validation_log_loss(model, df, filter_=np.empty(0)):\n",
    "    df_validation_predict = df.loc[df['data_type'] == 'validation','feature1':'feature50']\n",
    "    if filter_.any():\n",
    "        df_validation_predict = df_validation_predict.drop(df_validation_predict.columns[filter_], axis=1)\n",
    "    \n",
    "    df_validation_target = df.loc[df['data_type'] == 'validation','target']\n",
    "    validation_prediction = model.predict_proba(df_validation_predict)\n",
    "    return log_loss(df_validation_target, validation_prediction)\n",
    "\n",
    "def check_consistency(model, df, filter_=np.empty(0)):\n",
    "    eras_passed=0\n",
    "    for era in df.loc[df['data_type']=='validation',:].era.unique():\n",
    "        loss = get_validation_log_loss(model,df.loc[df['era']==era,:],filter_)\n",
    "        if loss < 0.693:\n",
    "            eras_passed+=1\n",
    "\n",
    "    return eras_passed/12\n",
    "\n"
   ]
  },
  {
   "cell_type": "code",
   "execution_count": 33,
   "metadata": {},
   "outputs": [
    {
     "name": "stdout",
     "output_type": "stream",
     "text": [
      "2018-01-31 16:14:41,187 - INFO - Fitting model\n",
      "2018-01-31 16:14:54,863 - INFO - Model fit\n"
     ]
    },
    {
     "data": {
      "text/plain": [
       "0.692945879397903"
      ]
     },
     "execution_count": 33,
     "metadata": {},
     "output_type": "execute_result"
    }
   ],
   "source": [
    "lg_baseline = LogisticRegression(random_state=21)\n",
    "logger.info('Fitting model')\n",
    "lg_baseline.fit(X_train, y_train)\n",
    "logger.info('Model fit')\n",
    "\n",
    "create_submission(df_prediction, lg_baseline, 'predictions_baseline.csv')\n",
    "baseline_logloss = get_validation_log_loss(lg_baseline, df)\n",
    "baseline_logloss"
   ]
  },
  {
   "cell_type": "code",
   "execution_count": 36,
   "metadata": {},
   "outputs": [
    {
     "name": "stdout",
     "output_type": "stream",
     "text": [
      "2018-01-31 16:16:22,163 - INFO - Fitting model\n",
      "2018-01-31 16:16:33,231 - INFO - Model fit\n"
     ]
    },
    {
     "data": {
      "text/plain": [
       "0.6929470574555433"
      ]
     },
     "execution_count": 36,
     "metadata": {},
     "output_type": "execute_result"
    }
   ],
   "source": [
    "\n",
    "scaler = preprocessing.MaxAbsScaler()\n",
    "X_train_scaled = scaler.fit_transform(X_train)\n",
    "validation_features_scaled = scaler.transform(df.loc[df['data_type']=='validation','feature1':'feature50'])\n",
    "\n",
    "lg_scaled = LogisticRegression(n_jobs=-1, solver='saga', random_state=21)\n",
    "logger.info('Fitting model')\n",
    "lg_scaled.fit(X_train_scaled, y_train)\n",
    "logger.info('Model fit')\n",
    "\n",
    "validation_target = df.loc[df['data_type'] == 'validation','target']\n",
    "validation_prediction = lg_scaled.predict_proba(validation_features_scaled)\n",
    "lg_scaled_logloss = log_loss(validation_target, validation_prediction)\n",
    "lg_scaled_logloss"
   ]
  },
  {
   "cell_type": "code",
   "execution_count": null,
   "metadata": {},
   "outputs": [],
   "source": [
    "lg_important_features = np.where(abs(lg_baseline.coef_) > .2)"
   ]
  },
  {
   "cell_type": "markdown",
   "metadata": {},
   "source": [
    "0.692945879397903 baseline \n",
    "0.6929555810479051 standard scaled \n",
    "0.6929555168509783 robust scaled\n",
    "0.6929470574555433 max abs scaled\n",
    "\n",
    "\n"
   ]
  },
  {
   "cell_type": "code",
   "execution_count": null,
   "metadata": {},
   "outputs": [
    {
     "name": "stdout",
     "output_type": "stream",
     "text": [
      "2018-01-31 15:39:51,440 - INFO - Fitting model\n"
     ]
    }
   ],
   "source": [
    "lg_opt = LogisticRegression(n_jobs=-1, random_state=21, \n",
    "                            penalty='l1')\n",
    "logger.info('Fitting model')\n",
    "lg_opt.fit(X_train, y_train)\n",
    "logger.info('Model fit')\n",
    "\n",
    "lg_opt_logloss = get_validation_log_loss(lg_opt, df)\n",
    "lg_opt_logloss"
   ]
  },
  {
   "cell_type": "code",
   "execution_count": null,
   "metadata": {},
   "outputs": [],
   "source": []
  },
  {
   "cell_type": "code",
   "execution_count": 30,
   "metadata": {},
   "outputs": [
    {
     "name": "stdout",
     "output_type": "stream",
     "text": [
      "2018-01-28 11:03:17,990 - INFO - Starting model fit\n",
      "2018-01-28 11:06:18,937 - INFO - Model fitted\n"
     ]
    }
   ],
   "source": [
    "cv = gkf.split(X_train_era, y_train_era, groups=X_train_era['era'])\n",
    "lg_group = LogisticRegressionCV(cv=cv)\n",
    "logger.info('Starting model fit')\n",
    "lg_group.fit(X_train, y_train)\n",
    "logger.info('Model fitted')\n",
    "group_logloss = get_validation_log_loss(lg_group, df)\n",
    "group_logloss"
   ]
  },
  {
   "cell_type": "code",
   "execution_count": 32,
   "metadata": {},
   "outputs": [
    {
     "data": {
      "text/plain": [
       "-0.05782708551779613"
      ]
     },
     "execution_count": 32,
     "metadata": {},
     "output_type": "execute_result"
    }
   ],
   "source": [
    "(group_logloss-baseline_logloss)/group_logloss*100"
   ]
  },
  {
   "cell_type": "code",
   "execution_count": 18,
   "metadata": {},
   "outputs": [
    {
     "name": "stdout",
     "output_type": "stream",
     "text": [
      "3.802949569919889e-06\n",
      "-6.025499421191682e-06\n"
     ]
    }
   ],
   "source": [
    "print(0.6926237830311198 - 0.6926199800815499)\n",
    "print(0.6926199800815499 - 0.6926260055809711)"
   ]
  },
  {
   "cell_type": "markdown",
   "metadata": {},
   "source": [
    "0.7809569239067203 default\n",
    "0.6926539978867465 n_estimators=1000,max_leaf_nodes=15\n",
    "0.6926281272932799 n_estimators=500,max_leaf_nodes=15\n",
    "0.6984105280907695 n_estimators=100,max_leaf_nodes=None\n",
    "0.6928226448632782 n_estimators=100,max_leaf_nodes=5\n",
    "\n",
    "0.6926490053669208 n_estimators=50,max_leaf_nodes=15\n",
    "0.6926264881596373 n_estimators=100,max_leaf_nodes=15\n",
    "0.6926237830311198 n_estimators=150,max_leaf_nodes=15\n",
    "0.6926199800815499 n_estimators=175,max_leaf_nodes=15\n",
    "0.6926260055809711 n_estimators=200,max_leaf_nodes=15\n",
    "\n",
    "\n",
    "0.6925970274264839 n_estimators=175,max_leaf_nodes=20\n",
    "0.6925456965520028 n_estimators=175,max_leaf_nodes=30\n",
    "0.6925077743059121 n_estimators=175,max_leaf_nodes=50\n",
    "0.6924796040625568 n_estimators=175,max_leaf_nodes=100\n",
    "0.6924269351737405 n_estimators=175,max_leaf_nodes=150\n",
    "0.6923994850550886 n_estimators=175,max_leaf_nodes=200\n",
    "0.692395593293289  n_estimators=175,max_leaf_nodes=205\n",
    "0.6924060245108058 n_estimators=175,max_leaf_nodes=210\n",
    "0.6924183696339382 n_estimators=175,max_leaf_nodes=225\n",
    "0.6924205980793621 n_estimators=175,max_leaf_nodes=250\n",
    "0.6924420819324049 n_estimators=175,max_leaf_nodes=300\n",
    "0.692472160869273  n_estimators=175,max_leaf_nodes=400\n",
    "\n",
    "\n",
    "0.6924482343001823 n_estimators=175,max_leaf_nodes=205 entropy\n",
    "\n",
    "0.6925234826212867 n_estimators=175,max_leaf_nodes=205,max_features=log2\n",
    "0.692395593293289  n_estimators=175,max_leaf_nodes=205\n",
    "0.6924785583536479 n_estimators=175,max_leaf_nodes=205,max_features=8\n",
    "0.6923817293453017 n_estimators=175,max_leaf_nodes=205,max_features=10\n",
    "0.6924414990011737 n_estimators=175,max_leaf_nodes=205,max_features=11\n",
    "0.692452599084798  n_estimators=175,max_leaf_nodes=205,max_features=12\n",
    "0.692434921786358  n_estimators=175,max_leaf_nodes=205,max_features=15\n",
    "0.6924986626987714 n_estimators=175,max_leaf_nodes=205,max_features=20\n",
    "0.6925193101183662 n_estimators=175,max_leaf_nodes=205,max_features=30\n",
    "0.6924359465554766 n_estimators=175,max_leaf_nodes=205,max_features=50\n",
    "\n",
    "0.6924264481698214 n_estimators=175,max_leaf_nodes=205,max_features=10, bootstrap=False\n",
    "0.6923817293453017 n_estimators=175,max_leaf_nodes=205,max_features=10, oob_score=True\n",
    "\n",
    "0.6924813705374833 n_estimators=175,max_leaf_nodes=205,max_features=10,max_depth=5\n",
    "0.6924325504443605 n_estimators=175,max_leaf_nodes=205,max_features=10,max_depth=10\n",
    "0.6923817293453017 n_estimators=175,max_leaf_nodes=205,max_features=10,max_depth=50\n",
    "0.6923830374594487 n_estimators=175,max_leaf_nodes=205,max_features=10,max_depth=30\n",
    "0.6923817293453017 n_estimators=175,max_leaf_nodes=205,max_features=10,max_depth=40\n",
    "0.6923817293453017 n_estimators=175,max_leaf_nodes=205,max_features=10,max_depth=35\n",
    "0.6923817293453017 n_estimators=175,max_leaf_nodes=205,max_features=10,max_depth=32\n",
    "0.6923817293453017 n_estimators=175,max_leaf_nodes=205,max_features=10,max_depth=31\n",
    "\n",
    "0.6924227331958277 n_estimators=175,max_leaf_nodes=205,max_features=10,min_samples_split=0.01\n",
    "0.6923817293453017 n_estimators=175,max_leaf_nodes=205,max_features=10,min_samples_split=3\n",
    "0.6924284376896439 n_estimators=175,max_leaf_nodes=205,max_features=10,min_samples_split=50\n",
    "0.6923971988691803 n_estimators=175,max_leaf_nodes=205,max_features=10,min_samples_split=20\n",
    "0.6924490732428077 n_estimators=175,max_leaf_nodes=205,max_features=10,min_samples_split=10\n",
    "\n",
    "0.6922934463211274 top 15 max 10\n",
    "0.6930808753582083 top 4\n",
    "0.69265250301624   top 7 no max features\n",
    "0.6924978160188072 top 11\n",
    "0.6923629534794612 top 22 max 10\n",
    "0.6923870823834799 top 22 no max features\n",
    "0.6923336618872348 top 19 max 10\n",
    "0.6923747980103881 top 17 max 10\n",
    "0.6923650167342608 top 16 max 10\n",
    "0.6923704226959646 top 14\n",
    "\n",
    "0.6922934463211274 top 15 max 10\n",
    "0.6922937527006087 max abs scaler\n",
    "0.6922938995815806 robust scaler\n",
    "0.692294168860375  standard scaler\n",
    "0.6922932509521263 standard no mean\n",
    "\n",
    "0.6922837586171385"
   ]
  },
  {
   "cell_type": "code",
   "execution_count": 15,
   "metadata": {},
   "outputs": [
    {
     "name": "stdout",
     "output_type": "stream",
     "text": [
      "2018-01-31 18:07:36,463 - INFO - Starting model fit\n",
      "2018-01-31 18:09:50,755 - INFO - Model fitted\n"
     ]
    },
    {
     "data": {
      "text/plain": [
       "0.6923894052547059"
      ]
     },
     "execution_count": 15,
     "metadata": {},
     "output_type": "execute_result"
    }
   ],
   "source": [
    "rfc_baseline = RandomForestClassifier(n_jobs=-1,\n",
    "                             n_estimators=170, \n",
    "                             max_leaf_nodes=203,\n",
    "                             max_features=10,\n",
    "                             random_state=21)\n",
    "\n",
    "logger.info('Starting model fit')\n",
    "rfc_baseline.fit(X_train, y_train)\n",
    "logger.info('Model fitted')\n",
    "\n",
    "rfc_baseline_logloss = get_validation_log_loss(rfc_baseline, df)\n",
    "rfc_baseline_logloss"
   ]
  },
  {
   "cell_type": "code",
   "execution_count": 18,
   "metadata": {},
   "outputs": [],
   "source": [
    "import pickle\n",
    "pickle.dump(rfc_baseline, open('rfc_baseline.pkl','wb'))"
   ]
  },
  {
   "cell_type": "code",
   "execution_count": 19,
   "metadata": {},
   "outputs": [
    {
     "name": "stdout",
     "output_type": "stream",
     "text": [
      " Volume in drive D is DATA\n",
      " Volume Serial Number is 6E14-EF9D\n",
      "\n",
      " Directory of D:\\Projects\\numerai\\learning_numerai\\notebooks\n",
      "\n",
      "31/01/2018  06:10    <DIR>          .\n",
      "31/01/2018  06:10    <DIR>          ..\n",
      "28/01/2018  09:46                 0 .gitkeep\n",
      "29/01/2018  10:36    <DIR>          .ipynb_checkpoints\n",
      "31/01/2018  06:08            38,073 Data processing testing.ipynb\n",
      "31/01/2018  03:30            21,369 Numerai API.ipynb\n",
      "31/01/2018  04:14         9,038,574 predictions_baseline.csv\n",
      "29/01/2018  08:52         9,056,479 predictions_RF.csv\n",
      "30/01/2018  06:12         9,058,033 predictions_RF_top15_CV.csv\n",
      "29/01/2018  08:55         9,057,467 predictions_RF_top15_rand.csv\n",
      "31/01/2018  06:10         5,030,908 rfc_baseline.pkl\n",
      "               8 File(s)     41,300,903 bytes\n",
      "               3 Dir(s)  298,262,204,416 bytes free\n"
     ]
    }
   ],
   "source": [
    "!dir"
   ]
  },
  {
   "cell_type": "code",
   "execution_count": 21,
   "metadata": {},
   "outputs": [
    {
     "name": "stdout",
     "output_type": "stream",
     "text": [
      "15\n"
     ]
    },
    {
     "data": {
      "text/plain": [
       "Index(['feature1', 'feature6', 'feature9', 'feature11', 'feature15',\n",
       "       'feature21', 'feature25', 'feature27', 'feature28', 'feature31',\n",
       "       'feature34', 'feature36', 'feature41', 'feature42', 'feature46'],\n",
       "      dtype='object')"
      ]
     },
     "execution_count": 21,
     "metadata": {},
     "output_type": "execute_result"
    }
   ],
   "source": [
    "import pickle\n",
    "rfc_baseline = pickle.load(open('rfc_baseline.pkl','rb'))\n",
    "filter_ = np.where(rfc_baseline.feature_importances_ < 0.020)[0]\n",
    "X_train_important = X_train.drop(X_train.columns[filter_], axis=1)\n",
    "print(len(X_train_important.columns))\n",
    "X_train_important.columns"
   ]
  },
  {
   "cell_type": "code",
   "execution_count": 22,
   "metadata": {},
   "outputs": [
    {
     "name": "stdout",
     "output_type": "stream",
     "text": [
      "2018-01-31 18:11:03,218 - INFO - Starting model fit\n",
      "2018-01-31 18:13:09,020 - INFO - Model fitted\n"
     ]
    },
    {
     "data": {
      "text/plain": [
       "0.6922840298416352"
      ]
     },
     "execution_count": 22,
     "metadata": {},
     "output_type": "execute_result"
    }
   ],
   "source": [
    "\n",
    "\n",
    "rfc_top15 = RandomForestClassifier(n_jobs=-1,\n",
    "                             n_estimators=170, \n",
    "                             max_leaf_nodes=203,\n",
    "                             max_features=10,\n",
    "                             random_state=21)\n",
    "\n",
    "logger.info('Starting model fit')\n",
    "rfc_top15.fit(X_train_important, y_train)\n",
    "logger.info('Model fitted')\n",
    "\n",
    "rfc_logloss = get_validation_log_loss(rfc_top15, df, filter_)\n",
    "rfc_logloss"
   ]
  },
  {
   "cell_type": "code",
   "execution_count": 23,
   "metadata": {},
   "outputs": [],
   "source": [
    "\n",
    "pickle.dump(rfc_top15, open('rfc_top15.pkl','wb'))"
   ]
  },
  {
   "cell_type": "code",
   "execution_count": 24,
   "metadata": {},
   "outputs": [
    {
     "name": "stdout",
     "output_type": "stream",
     "text": [
      "2018-01-31 18:13:09,675 - INFO - Starting model fit\n",
      "2018-01-31 18:15:14,882 - INFO - Model fitted\n"
     ]
    },
    {
     "data": {
      "text/plain": [
       "0.6922837586171385"
      ]
     },
     "execution_count": 24,
     "metadata": {},
     "output_type": "execute_result"
    }
   ],
   "source": [
    "rfc_top15_scaled = RandomForestClassifier(n_jobs=-1,\n",
    "                             n_estimators=170, \n",
    "                             max_leaf_nodes=203,\n",
    "                             max_features=10,\n",
    "                             random_state=21)\n",
    "\n",
    "scaler = preprocessing.StandardScaler(with_mean=False)\n",
    "scaler.fit_transform(X_train_important)\n",
    "X_train_scaled = scaler.transform(X_train_important)\n",
    "validation_features = df.loc[df['data_type']=='validation','feature1':'feature50']\n",
    "validation_features = validation_features.drop(validation_features.columns[filter_], axis=1)\n",
    "validation_features_scaled = scaler.transform(validation_features)\n",
    "\n",
    "logger.info('Starting model fit')\n",
    "rfc_top15_scaled.fit(X_train_scaled, y_train)\n",
    "logger.info('Model fitted')\n",
    "\n",
    "validation_target = df.loc[df['data_type'] == 'validation','target']\n",
    "validation_prediction = rfc_top15_scaled.predict_proba(validation_features_scaled)\n",
    "rfc_scaled_logloss = log_loss(validation_target, validation_prediction)\n",
    "rfc_scaled_logloss"
   ]
  },
  {
   "cell_type": "code",
   "execution_count": 187,
   "metadata": {
    "scrolled": true
   },
   "outputs": [
    {
     "data": {
      "text/plain": [
       "0.8333333333333334"
      ]
     },
     "execution_count": 187,
     "metadata": {},
     "output_type": "execute_result"
    }
   ],
   "source": [
    "check_consistency(rfc, df, filter_)"
   ]
  },
  {
   "cell_type": "code",
   "execution_count": null,
   "metadata": {},
   "outputs": [],
   "source": [
    "import random\n",
    "\n",
    "def create_original_submission(df, model, amount, scaler, filename='predictions.csv', filter_=np.empty(0)):\n",
    "    random.seed(21)\n",
    "    submission = df.loc[(df['data_type'] == 'validation') | \n",
    "                       (df['data_type'] == 'test') | \n",
    "                       (df['data_type'] == 'live'), :]\n",
    "    cols = submission.columns.tolist()\n",
    "    cols = cols[2:53] + cols[0:2]\n",
    "    submission = submission[cols]\n",
    "    \n",
    "    df_predict_feat = submission.loc[:,'feature1':'feature50']\n",
    "    if filter_.any():\n",
    "        df_predict_feat = df_predict_feat.drop(df_predict_feat.columns[filter_], axis=1)\n",
    "        \n",
    "    df_predict_feat = scaler.transform(df_predict_feat)        \n",
    "    submission['probability'] = model.predict_proba(df_predict_feat)[:,1]\n",
    "    submission['probability'] = submission['probability'] + random.uniform(-amount,amount)\n",
    "    \n",
    "    validation_data = submission.loc[submission['data_type'] == 'validation', :]\n",
    "    validation_target = validation_data.loc[:, 'target']\n",
    "    validation_prediction = validation_data.loc[:, 'probability']\n",
    "    validation_log_loss = log_loss(validation_target, validation_prediction)\n",
    "    print(\"Logloss: {}\".format(validation_log_loss))\n",
    "    \n",
    "    eras_passed=0\n",
    "    for era in validation_data['era'].unique():\n",
    "        era_data = validation_data.loc[validation_data['era']==era,:]\n",
    "        era_target = era_data.loc[:, 'target']\n",
    "        era_prediction = era_data.loc[:, 'probability']\n",
    "        era_log_loss = log_loss(era_target, era_prediction)\n",
    "        if era_log_loss < 0.693:\n",
    "            eras_passed+=1\n",
    "\n",
    "    print(\"Consistency: {}\".format(eras_passed/12))\n",
    "    submission['id'] = submission.index\n",
    "    submission = submission.loc[:, ['id','probability']]\n",
    "    \n",
    "    submission.to_csv(filename, index=False)\n"
   ]
  },
  {
   "cell_type": "code",
   "execution_count": null,
   "metadata": {},
   "outputs": [],
   "source": []
  },
  {
   "cell_type": "code",
   "execution_count": 322,
   "metadata": {},
   "outputs": [
    {
     "name": "stdout",
     "output_type": "stream",
     "text": [
      "Logloss: 0.6924171968616661\n",
      "Consistency: 0.8333333333333334\n"
     ]
    }
   ],
   "source": [
    "create_original_submission(df, rfc_top15, 0.012, 'predictions_RF_top15_rand.csv', filter_)"
   ]
  },
  {
   "cell_type": "code",
   "execution_count": null,
   "metadata": {},
   "outputs": [
    {
     "name": "stdout",
     "output_type": "stream",
     "text": [
      "2018-01-31 18:15:15,256 - INFO - Starting model fit\n"
     ]
    }
   ],
   "source": [
    "gkf = GroupKFold(n_splits=10)\n",
    "cv = gkf.split(X_train_era, y_train_era, groups=X_train_era['era'])\n",
    "param_grid = { \n",
    "    'n_estimators': [166, 168, 170, 172, 174],\n",
    "    'max_leaf_nodes': [202, 203, 204]\n",
    "}\n",
    "\n",
    "rfc_top15_scaled_CV = RandomForestClassifier(n_jobs=-1,\n",
    "                             n_estimators=170, \n",
    "                             max_leaf_nodes=203,\n",
    "                             max_features=10,\n",
    "                             random_state=21)\n",
    "rfc_top15_scaled_CV = GridSearchCV(n_jobs=-1, estimator=rfc_top15_scaled_CV, param_grid=param_grid, cv=cv)\n",
    "logger.info('Starting model fit')\n",
    "rfc_top15_scaled_CV.fit(X_train_scaled, y_train)\n",
    "logger.info('Model fitted')\n",
    "rfc_top15_scaled_CV.best_params_\n"
   ]
  },
  {
   "cell_type": "code",
   "execution_count": null,
   "metadata": {},
   "outputs": [],
   "source": []
  },
  {
   "cell_type": "code",
   "execution_count": null,
   "metadata": {},
   "outputs": [],
   "source": [
    "create_original_submission(df, rfc_top15_scaled_CV, 0.0, scaler, 'predictions_RF_top15_CV.csv', filter_)"
   ]
  },
  {
   "cell_type": "code",
   "execution_count": null,
   "metadata": {},
   "outputs": [],
   "source": []
  }
 ],
 "metadata": {
  "kernelspec": {
   "display_name": "Python 3",
   "language": "python",
   "name": "python3"
  },
  "language_info": {
   "codemirror_mode": {
    "name": "ipython",
    "version": 3
   },
   "file_extension": ".py",
   "mimetype": "text/x-python",
   "name": "python",
   "nbconvert_exporter": "python",
   "pygments_lexer": "ipython3",
   "version": "3.6.4"
  }
 },
 "nbformat": 4,
 "nbformat_minor": 2
}
