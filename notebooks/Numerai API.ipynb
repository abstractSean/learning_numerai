{
 "cells": [
  {
   "cell_type": "code",
   "execution_count": 1,
   "metadata": {},
   "outputs": [],
   "source": [
    "import os\n",
    "import requests\n",
    "import pandas as pd\n",
    "from io import BytesIO\n",
    "from zipfile import ZipFile"
   ]
  },
  {
   "cell_type": "markdown",
   "metadata": {},
   "source": [
    "## Download zip file and convert to dataframe"
   ]
  },
  {
   "cell_type": "markdown",
   "metadata": {},
   "source": [
    "### Future:\n",
    "* check if current round data exists by checking for current dataset's round number in filename\n",
    "* only download if current data doesn't exist\n",
    "* save result with round number in file name\n"
   ]
  },
  {
   "cell_type": "code",
   "execution_count": 50,
   "metadata": {},
   "outputs": [],
   "source": [
    "def numerai_api_query(query):\n",
    "    \n",
    "    numerai_api_url = 'https://api-tournament.numer.ai/'\n",
    "    headers = {'Content-Type':'application/json',\n",
    "               'Accept':'application/json'\n",
    "              }\n",
    "    with requests.Session() as r:\n",
    "        return r.post(url=numerai_api_url,\n",
    "                      json=query,\n",
    "                      headers=headers).json()"
   ]
  },
  {
   "cell_type": "code",
   "execution_count": 51,
   "metadata": {},
   "outputs": [],
   "source": [
    "def get_current_round():\n",
    "    rounds_query = {'query': '{rounds {number}}'}\n",
    "    data = numerai_api_query(rounds_query)['data']['rounds']\n",
    "    round_numbers = [number for rounds in data \n",
    "                     for number in rounds.values()]\n",
    "    round_numbers.sort(reverse=True)\n",
    "    return round_numbers[0]"
   ]
  },
  {
   "cell_type": "code",
   "execution_count": 52,
   "metadata": {},
   "outputs": [
    {
     "data": {
      "text/plain": [
       "91"
      ]
     },
     "execution_count": 52,
     "metadata": {},
     "output_type": "execute_result"
    }
   ],
   "source": [
    "get_current_round()"
   ]
  },
  {
   "cell_type": "code",
   "execution_count": 53,
   "metadata": {},
   "outputs": [],
   "source": [
    "def get_dataset_url():\n",
    "    \n",
    "    dataset_query = {'query':'{dataset}'}\n",
    "    return numerai_api_query(dataset_query)['data']['dataset']\n",
    "\n",
    "\n",
    "def download_dataset_as_df(dataset_url):\n",
    "    with requests.Session() as r:\n",
    "        dataset_download = r.get(dataset_url, stream=True).content\n",
    "    \n",
    "        with ZipFile(BytesIO(dataset_download)) as dataset_zip:\n",
    "            with dataset_zip.open('numerai_training_data.csv') as train_data:\n",
    "                df_train = pd.read_csv(train_data, index_col='id')\n",
    "            with dataset_zip.open('numerai_tournament_data.csv') as live_data:\n",
    "                df_live = pd.read_csv(live_data, index_col='id')\n",
    "            \n",
    "    return pd.concat([df_train, df_live])"
   ]
  },
  {
   "cell_type": "code",
   "execution_count": 54,
   "metadata": {},
   "outputs": [
    {
     "data": {
      "text/plain": [
       "'91'"
      ]
     },
     "execution_count": 54,
     "metadata": {},
     "output_type": "execute_result"
    }
   ],
   "source": [
    "dataset_url = get_dataset_url()\n",
    "round_number = dataset_url.split('/')[3]\n",
    "round_number"
   ]
  },
  {
   "cell_type": "code",
   "execution_count": 55,
   "metadata": {},
   "outputs": [],
   "source": [
    "df = download_dataset_as_df(dataset_url)"
   ]
  },
  {
   "cell_type": "code",
   "execution_count": 56,
   "metadata": {},
   "outputs": [
    {
     "name": "stdout",
     "output_type": "stream",
     "text": [
      "<class 'pandas.core.frame.DataFrame'>\n",
      "Index: 637024 entries, n2b2e3dd163cb422 to n5b44b664391d4cf\n",
      "Data columns (total 53 columns):\n",
      "era          637024 non-null object\n",
      "data_type    637024 non-null object\n",
      "feature1     637024 non-null float64\n",
      "feature2     637024 non-null float64\n",
      "feature3     637024 non-null float64\n",
      "feature4     637024 non-null float64\n",
      "feature5     637024 non-null float64\n",
      "feature6     637024 non-null float64\n",
      "feature7     637024 non-null float64\n",
      "feature8     637024 non-null float64\n",
      "feature9     637024 non-null float64\n",
      "feature10    637024 non-null float64\n",
      "feature11    637024 non-null float64\n",
      "feature12    637024 non-null float64\n",
      "feature13    637024 non-null float64\n",
      "feature14    637024 non-null float64\n",
      "feature15    637024 non-null float64\n",
      "feature16    637024 non-null float64\n",
      "feature17    637024 non-null float64\n",
      "feature18    637024 non-null float64\n",
      "feature19    637024 non-null float64\n",
      "feature20    637024 non-null float64\n",
      "feature21    637024 non-null float64\n",
      "feature22    637024 non-null float64\n",
      "feature23    637024 non-null float64\n",
      "feature24    637024 non-null float64\n",
      "feature25    637024 non-null float64\n",
      "feature26    637024 non-null float64\n",
      "feature27    637024 non-null float64\n",
      "feature28    637024 non-null float64\n",
      "feature29    637024 non-null float64\n",
      "feature30    637024 non-null float64\n",
      "feature31    637024 non-null float64\n",
      "feature32    637024 non-null float64\n",
      "feature33    637024 non-null float64\n",
      "feature34    637024 non-null float64\n",
      "feature35    637024 non-null float64\n",
      "feature36    637024 non-null float64\n",
      "feature37    637024 non-null float64\n",
      "feature38    637024 non-null float64\n",
      "feature39    637024 non-null float64\n",
      "feature40    637024 non-null float64\n",
      "feature41    637024 non-null float64\n",
      "feature42    637024 non-null float64\n",
      "feature43    637024 non-null float64\n",
      "feature44    637024 non-null float64\n",
      "feature45    637024 non-null float64\n",
      "feature46    637024 non-null float64\n",
      "feature47    637024 non-null float64\n",
      "feature48    637024 non-null float64\n",
      "feature49    637024 non-null float64\n",
      "feature50    637024 non-null float64\n",
      "target       439975 non-null float64\n",
      "dtypes: float64(51), object(2)\n",
      "memory usage: 262.4+ MB\n"
     ]
    }
   ],
   "source": [
    "df.info()"
   ]
  },
  {
   "cell_type": "code",
   "execution_count": 57,
   "metadata": {},
   "outputs": [
    {
     "data": {
      "text/html": [
       "<div>\n",
       "<style>\n",
       "    .dataframe thead tr:only-child th {\n",
       "        text-align: right;\n",
       "    }\n",
       "\n",
       "    .dataframe thead th {\n",
       "        text-align: left;\n",
       "    }\n",
       "\n",
       "    .dataframe tbody tr th {\n",
       "        vertical-align: top;\n",
       "    }\n",
       "</style>\n",
       "<table border=\"1\" class=\"dataframe\">\n",
       "  <thead>\n",
       "    <tr style=\"text-align: right;\">\n",
       "      <th></th>\n",
       "      <th>era</th>\n",
       "      <th>data_type</th>\n",
       "      <th>feature1</th>\n",
       "      <th>feature2</th>\n",
       "      <th>feature3</th>\n",
       "      <th>feature4</th>\n",
       "      <th>feature5</th>\n",
       "      <th>feature6</th>\n",
       "      <th>feature7</th>\n",
       "      <th>feature8</th>\n",
       "      <th>...</th>\n",
       "      <th>feature42</th>\n",
       "      <th>feature43</th>\n",
       "      <th>feature44</th>\n",
       "      <th>feature45</th>\n",
       "      <th>feature46</th>\n",
       "      <th>feature47</th>\n",
       "      <th>feature48</th>\n",
       "      <th>feature49</th>\n",
       "      <th>feature50</th>\n",
       "      <th>target</th>\n",
       "    </tr>\n",
       "    <tr>\n",
       "      <th>id</th>\n",
       "      <th></th>\n",
       "      <th></th>\n",
       "      <th></th>\n",
       "      <th></th>\n",
       "      <th></th>\n",
       "      <th></th>\n",
       "      <th></th>\n",
       "      <th></th>\n",
       "      <th></th>\n",
       "      <th></th>\n",
       "      <th></th>\n",
       "      <th></th>\n",
       "      <th></th>\n",
       "      <th></th>\n",
       "      <th></th>\n",
       "      <th></th>\n",
       "      <th></th>\n",
       "      <th></th>\n",
       "      <th></th>\n",
       "      <th></th>\n",
       "      <th></th>\n",
       "    </tr>\n",
       "  </thead>\n",
       "  <tbody>\n",
       "    <tr>\n",
       "      <th>n2b2e3dd163cb422</th>\n",
       "      <td>era1</td>\n",
       "      <td>train</td>\n",
       "      <td>0.43487</td>\n",
       "      <td>0.44645</td>\n",
       "      <td>0.25802</td>\n",
       "      <td>0.37149</td>\n",
       "      <td>0.62235</td>\n",
       "      <td>0.67451</td>\n",
       "      <td>0.68103</td>\n",
       "      <td>0.45166</td>\n",
       "      <td>...</td>\n",
       "      <td>0.52962</td>\n",
       "      <td>0.42439</td>\n",
       "      <td>0.51680</td>\n",
       "      <td>0.46297</td>\n",
       "      <td>0.57426</td>\n",
       "      <td>0.57946</td>\n",
       "      <td>0.49646</td>\n",
       "      <td>0.48968</td>\n",
       "      <td>0.54194</td>\n",
       "      <td>1.0</td>\n",
       "    </tr>\n",
       "    <tr>\n",
       "      <th>n177021a571c94c8</th>\n",
       "      <td>era1</td>\n",
       "      <td>train</td>\n",
       "      <td>0.50038</td>\n",
       "      <td>0.39216</td>\n",
       "      <td>0.38394</td>\n",
       "      <td>0.51213</td>\n",
       "      <td>0.36660</td>\n",
       "      <td>0.46911</td>\n",
       "      <td>0.68204</td>\n",
       "      <td>0.61320</td>\n",
       "      <td>...</td>\n",
       "      <td>0.51669</td>\n",
       "      <td>0.48445</td>\n",
       "      <td>0.57587</td>\n",
       "      <td>0.59860</td>\n",
       "      <td>0.67558</td>\n",
       "      <td>0.45577</td>\n",
       "      <td>0.80908</td>\n",
       "      <td>0.50287</td>\n",
       "      <td>0.61629</td>\n",
       "      <td>0.0</td>\n",
       "    </tr>\n",
       "    <tr>\n",
       "      <th>n7830fa4c0cd8466</th>\n",
       "      <td>era1</td>\n",
       "      <td>train</td>\n",
       "      <td>0.47416</td>\n",
       "      <td>0.34143</td>\n",
       "      <td>0.39528</td>\n",
       "      <td>0.46337</td>\n",
       "      <td>0.72953</td>\n",
       "      <td>0.45962</td>\n",
       "      <td>0.47869</td>\n",
       "      <td>0.68118</td>\n",
       "      <td>...</td>\n",
       "      <td>0.41458</td>\n",
       "      <td>0.34804</td>\n",
       "      <td>0.29058</td>\n",
       "      <td>0.51382</td>\n",
       "      <td>0.36389</td>\n",
       "      <td>0.80602</td>\n",
       "      <td>0.39253</td>\n",
       "      <td>0.41821</td>\n",
       "      <td>0.58679</td>\n",
       "      <td>0.0</td>\n",
       "    </tr>\n",
       "    <tr>\n",
       "      <th>nc594a184cee941b</th>\n",
       "      <td>era1</td>\n",
       "      <td>train</td>\n",
       "      <td>0.48759</td>\n",
       "      <td>0.55903</td>\n",
       "      <td>0.43987</td>\n",
       "      <td>0.38834</td>\n",
       "      <td>0.44650</td>\n",
       "      <td>0.46389</td>\n",
       "      <td>0.70749</td>\n",
       "      <td>0.63182</td>\n",
       "      <td>...</td>\n",
       "      <td>0.28776</td>\n",
       "      <td>0.42881</td>\n",
       "      <td>0.55402</td>\n",
       "      <td>0.53695</td>\n",
       "      <td>0.48793</td>\n",
       "      <td>0.62432</td>\n",
       "      <td>0.52898</td>\n",
       "      <td>0.49009</td>\n",
       "      <td>0.49557</td>\n",
       "      <td>0.0</td>\n",
       "    </tr>\n",
       "    <tr>\n",
       "      <th>nc5ab8667901946a</th>\n",
       "      <td>era1</td>\n",
       "      <td>train</td>\n",
       "      <td>0.23433</td>\n",
       "      <td>0.55499</td>\n",
       "      <td>0.47849</td>\n",
       "      <td>0.56990</td>\n",
       "      <td>0.64945</td>\n",
       "      <td>0.47152</td>\n",
       "      <td>0.62085</td>\n",
       "      <td>0.57626</td>\n",
       "      <td>...</td>\n",
       "      <td>0.64405</td>\n",
       "      <td>0.32416</td>\n",
       "      <td>0.33193</td>\n",
       "      <td>0.58065</td>\n",
       "      <td>0.44587</td>\n",
       "      <td>0.47770</td>\n",
       "      <td>0.44020</td>\n",
       "      <td>0.47895</td>\n",
       "      <td>0.57978</td>\n",
       "      <td>0.0</td>\n",
       "    </tr>\n",
       "  </tbody>\n",
       "</table>\n",
       "<p>5 rows × 53 columns</p>\n",
       "</div>"
      ],
      "text/plain": [
       "                   era data_type  feature1  feature2  feature3  feature4  \\\n",
       "id                                                                         \n",
       "n2b2e3dd163cb422  era1     train   0.43487   0.44645   0.25802   0.37149   \n",
       "n177021a571c94c8  era1     train   0.50038   0.39216   0.38394   0.51213   \n",
       "n7830fa4c0cd8466  era1     train   0.47416   0.34143   0.39528   0.46337   \n",
       "nc594a184cee941b  era1     train   0.48759   0.55903   0.43987   0.38834   \n",
       "nc5ab8667901946a  era1     train   0.23433   0.55499   0.47849   0.56990   \n",
       "\n",
       "                  feature5  feature6  feature7  feature8   ...    feature42  \\\n",
       "id                                                         ...                \n",
       "n2b2e3dd163cb422   0.62235   0.67451   0.68103   0.45166   ...      0.52962   \n",
       "n177021a571c94c8   0.36660   0.46911   0.68204   0.61320   ...      0.51669   \n",
       "n7830fa4c0cd8466   0.72953   0.45962   0.47869   0.68118   ...      0.41458   \n",
       "nc594a184cee941b   0.44650   0.46389   0.70749   0.63182   ...      0.28776   \n",
       "nc5ab8667901946a   0.64945   0.47152   0.62085   0.57626   ...      0.64405   \n",
       "\n",
       "                  feature43  feature44  feature45  feature46  feature47  \\\n",
       "id                                                                        \n",
       "n2b2e3dd163cb422    0.42439    0.51680    0.46297    0.57426    0.57946   \n",
       "n177021a571c94c8    0.48445    0.57587    0.59860    0.67558    0.45577   \n",
       "n7830fa4c0cd8466    0.34804    0.29058    0.51382    0.36389    0.80602   \n",
       "nc594a184cee941b    0.42881    0.55402    0.53695    0.48793    0.62432   \n",
       "nc5ab8667901946a    0.32416    0.33193    0.58065    0.44587    0.47770   \n",
       "\n",
       "                  feature48  feature49  feature50  target  \n",
       "id                                                         \n",
       "n2b2e3dd163cb422    0.49646    0.48968    0.54194     1.0  \n",
       "n177021a571c94c8    0.80908    0.50287    0.61629     0.0  \n",
       "n7830fa4c0cd8466    0.39253    0.41821    0.58679     0.0  \n",
       "nc594a184cee941b    0.52898    0.49009    0.49557     0.0  \n",
       "nc5ab8667901946a    0.44020    0.47895    0.57978     0.0  \n",
       "\n",
       "[5 rows x 53 columns]"
      ]
     },
     "execution_count": 57,
     "metadata": {},
     "output_type": "execute_result"
    }
   ],
   "source": [
    "df.head()"
   ]
  },
  {
   "cell_type": "code",
   "execution_count": null,
   "metadata": {},
   "outputs": [],
   "source": [
    "save_dataset(df, round_number)\n"
   ]
  },
  {
   "cell_type": "code",
   "execution_count": null,
   "metadata": {},
   "outputs": [],
   "source": [
    "!ls ~/Projects/numerai/numerai/data/raw/"
   ]
  },
  {
   "cell_type": "code",
   "execution_count": 5,
   "metadata": {},
   "outputs": [],
   "source": [
    "project_dir = os.path.join(os.getcwd(), os.pardir)\n",
    "raw_data_path = os.path.join(project_dir, 'data', 'raw')\n",
    "files = [csv for csv in os.listdir(raw_data_path)]\n",
    "    "
   ]
  },
  {
   "cell_type": "code",
   "execution_count": null,
   "metadata": {},
   "outputs": [],
   "source": []
  },
  {
   "cell_type": "code",
   "execution_count": 9,
   "metadata": {},
   "outputs": [
    {
     "data": {
      "text/plain": [
       "'No query document supplied'"
      ]
     },
     "execution_count": 9,
     "metadata": {},
     "output_type": "execute_result"
    }
   ],
   "source": [
    "result.text"
   ]
  },
  {
   "cell_type": "code",
   "execution_count": 5,
   "metadata": {},
   "outputs": [],
   "source": [
    "import requests\n",
    "numerai_api_url = 'https://api-tournament.numer.ai/'\n",
    "headers = {'Content-Type':'application/json',\n",
    "           'Accept':'application/json',\n",
    "           'Authorization':'Token {}${}'.format(public_id, secret_key,\n",
    "          }\n",
    "\n",
    "query = {'mutation': '{createSubmission (filename: \"/home/sean/Projects/numerai/numerai/notebooks/predictions.csv\") {validationLogloss} }'}\n",
    "with requests.Session() as r:\n",
    "    result = r.post(url=numerai_api_url,\n",
    "                  json=query,\n",
    "                  headers=headers)"
   ]
  },
  {
   "cell_type": "code",
   "execution_count": 2,
   "metadata": {},
   "outputs": [],
   "source": [
    "from numerapi import numerapi\n",
    "import os\n",
    "from dotenv import load_dotenv, find_dotenv"
   ]
  },
  {
   "cell_type": "code",
   "execution_count": 3,
   "metadata": {},
   "outputs": [
    {
     "data": {
      "text/plain": [
       "True"
      ]
     },
     "execution_count": 3,
     "metadata": {},
     "output_type": "execute_result"
    }
   ],
   "source": [
    "# find .env automatically by walking up directories until it's found\n",
    "dotenv_path = find_dotenv()\n",
    "# load up the entries as environment variables\n",
    "load_dotenv(dotenv_path)"
   ]
  },
  {
   "cell_type": "code",
   "execution_count": 4,
   "metadata": {},
   "outputs": [],
   "source": [
    "public_id = os.environ.get(\"NUMERAI_SUBMIT_ID\")\n",
    "secret_key = os.environ.get(\"NUMERAI_SUBMIT_KEY\")"
   ]
  },
  {
   "cell_type": "code",
   "execution_count": 11,
   "metadata": {},
   "outputs": [
    {
     "data": {
      "text/plain": [
       "'/home/sean/Projects/numerai/numerai/notebooks/predictions_groupkfold.csv'"
      ]
     },
     "execution_count": 11,
     "metadata": {},
     "output_type": "execute_result"
    }
   ],
   "source": [
    "predict_file = raw_data_path = os.path.join(os.getcwd(), 'predictions_groupkfold.csv')\n",
    "predict_file"
   ]
  },
  {
   "cell_type": "code",
   "execution_count": 12,
   "metadata": {},
   "outputs": [
    {
     "name": "stderr",
     "output_type": "stream",
     "text": [
      "2018-01-27 22:08:25,427 INFO numerapi.numerapi: uploading prediction...\n"
     ]
    },
    {
     "data": {
      "text/plain": [
       "{'concordance': None,\n",
       " 'consistency': None,\n",
       " 'originality': None,\n",
       " 'validation_logloss': None}"
      ]
     },
     "execution_count": 12,
     "metadata": {},
     "output_type": "execute_result"
    }
   ],
   "source": [
    "napi = numerapi.NumerAPI(public_id, secret_key, verbosity='info')\n",
    "submission_id = napi.upload_predictions(predict_file)\n",
    "napi.submission_status()\n"
   ]
  },
  {
   "cell_type": "code",
   "execution_count": 14,
   "metadata": {},
   "outputs": [
    {
     "data": {
      "text/plain": [
       "{'concordance': {'pending': False, 'value': True},\n",
       " 'consistency': 83.33333333333334,\n",
       " 'originality': {'pending': False, 'value': False},\n",
       " 'validation_logloss': 0.6925454807645405}"
      ]
     },
     "execution_count": 14,
     "metadata": {},
     "output_type": "execute_result"
    }
   ],
   "source": [
    "napi.submission_status()"
   ]
  },
  {
   "cell_type": "code",
   "execution_count": null,
   "metadata": {},
   "outputs": [],
   "source": []
  }
 ],
 "metadata": {
  "kernelspec": {
   "display_name": "Python 3",
   "language": "python",
   "name": "python3"
  },
  "language_info": {
   "codemirror_mode": {
    "name": "ipython",
    "version": 3
   },
   "file_extension": ".py",
   "mimetype": "text/x-python",
   "name": "python",
   "nbconvert_exporter": "python",
   "pygments_lexer": "ipython3",
   "version": "3.5.2"
  }
 },
 "nbformat": 4,
 "nbformat_minor": 2
}
