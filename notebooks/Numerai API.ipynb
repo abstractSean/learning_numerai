{
 "cells": [
  {
   "cell_type": "code",
   "execution_count": 5,
   "metadata": {},
   "outputs": [],
   "source": [
    "import os\n",
    "import requests\n",
    "import pandas as pd\n",
    "from io import BytesIO\n",
    "from zipfile import ZipFile"
   ]
  },
  {
   "cell_type": "markdown",
   "metadata": {},
   "source": [
    "## Download zip file and convert to dataframe"
   ]
  },
  {
   "cell_type": "markdown",
   "metadata": {},
   "source": [
    "### Future:\n",
    "* check if current round data exists by checking for current dataset's round number in filename\n",
    "* only download if current data doesn't exist\n",
    "* save result with round number in file name\n"
   ]
  },
  {
   "cell_type": "code",
   "execution_count": 6,
   "metadata": {},
   "outputs": [],
   "source": [
    "def numerai_api_query(query):\n",
    "    \n",
    "    numerai_api_url = 'https://api-tournament.numer.ai/'\n",
    "    headers = {'Content-Type':'application/json',\n",
    "               'Accept':'application/json'\n",
    "              }\n",
    "    with requests.Session() as r:\n",
    "        return r.post(url=numerai_api_url,\n",
    "                      json=query,\n",
    "                      headers=headers).json()"
   ]
  },
  {
   "cell_type": "code",
   "execution_count": 11,
   "metadata": {},
   "outputs": [],
   "source": [
    "def get_current_round():\n",
    "    rounds_query = {'query': '{rounds {number}}'}\n",
    "    data = numerai_api_query(rounds_query)['data']['rounds']\n",
    "    round_numbers = [number for rounds in data \n",
    "                     for number in rounds.values()]\n",
    "    round_numbers.sort(reverse=True)\n",
    "    return round_numbers[0]"
   ]
  },
  {
   "cell_type": "code",
   "execution_count": 12,
   "metadata": {},
   "outputs": [
    {
     "data": {
      "text/plain": [
       "91"
      ]
     },
     "execution_count": 12,
     "metadata": {},
     "output_type": "execute_result"
    }
   ],
   "source": [
    "get_current_round()"
   ]
  },
  {
   "cell_type": "code",
   "execution_count": 13,
   "metadata": {},
   "outputs": [],
   "source": [
    "def get_dataset_url():\n",
    "    \n",
    "    dataset_query = {'query':'{dataset}'}\n",
    "    return numerai_api_query(dataset_query)['data']['dataset']\n",
    "\n",
    "\n",
    "def download_dataset_as_df(dataset_url):\n",
    "    with requests.Session() as r:\n",
    "        dataset_download = r.get(dataset_url, stream=True).content\n",
    "    \n",
    "        with ZipFile(BytesIO(dataset_download)) as dataset_zip:\n",
    "            with dataset_zip.open('numerai_training_data.csv') as train_data:\n",
    "                df_train = pd.read_csv(train_data)\n",
    "            with dataset_zip.open('numerai_tournament_data.csv') as live_data:\n",
    "                df_live = pd.read_csv(live_data)\n",
    "            \n",
    "    return pd.concat([df_train, df_live])"
   ]
  },
  {
   "cell_type": "code",
   "execution_count": 14,
   "metadata": {},
   "outputs": [
    {
     "data": {
      "text/plain": [
       "'91'"
      ]
     },
     "execution_count": 14,
     "metadata": {},
     "output_type": "execute_result"
    }
   ],
   "source": [
    "dataset_url = get_dataset_url()\n",
    "round_number = dataset_url.split('/')[3]\n",
    "round_number"
   ]
  },
  {
   "cell_type": "code",
   "execution_count": 16,
   "metadata": {},
   "outputs": [],
   "source": [
    "df = download_dataset_as_df(dataset_url)"
   ]
  },
  {
   "cell_type": "code",
   "execution_count": 17,
   "metadata": {},
   "outputs": [
    {
     "name": "stdout",
     "output_type": "stream",
     "text": [
      "<class 'pandas.core.frame.DataFrame'>\n",
      "Int64Index: 637024 entries, 0 to 243410\n",
      "Data columns (total 54 columns):\n",
      "id           637024 non-null object\n",
      "era          637024 non-null object\n",
      "data_type    637024 non-null object\n",
      "feature1     637024 non-null float64\n",
      "feature2     637024 non-null float64\n",
      "feature3     637024 non-null float64\n",
      "feature4     637024 non-null float64\n",
      "feature5     637024 non-null float64\n",
      "feature6     637024 non-null float64\n",
      "feature7     637024 non-null float64\n",
      "feature8     637024 non-null float64\n",
      "feature9     637024 non-null float64\n",
      "feature10    637024 non-null float64\n",
      "feature11    637024 non-null float64\n",
      "feature12    637024 non-null float64\n",
      "feature13    637024 non-null float64\n",
      "feature14    637024 non-null float64\n",
      "feature15    637024 non-null float64\n",
      "feature16    637024 non-null float64\n",
      "feature17    637024 non-null float64\n",
      "feature18    637024 non-null float64\n",
      "feature19    637024 non-null float64\n",
      "feature20    637024 non-null float64\n",
      "feature21    637024 non-null float64\n",
      "feature22    637024 non-null float64\n",
      "feature23    637024 non-null float64\n",
      "feature24    637024 non-null float64\n",
      "feature25    637024 non-null float64\n",
      "feature26    637024 non-null float64\n",
      "feature27    637024 non-null float64\n",
      "feature28    637024 non-null float64\n",
      "feature29    637024 non-null float64\n",
      "feature30    637024 non-null float64\n",
      "feature31    637024 non-null float64\n",
      "feature32    637024 non-null float64\n",
      "feature33    637024 non-null float64\n",
      "feature34    637024 non-null float64\n",
      "feature35    637024 non-null float64\n",
      "feature36    637024 non-null float64\n",
      "feature37    637024 non-null float64\n",
      "feature38    637024 non-null float64\n",
      "feature39    637024 non-null float64\n",
      "feature40    637024 non-null float64\n",
      "feature41    637024 non-null float64\n",
      "feature42    637024 non-null float64\n",
      "feature43    637024 non-null float64\n",
      "feature44    637024 non-null float64\n",
      "feature45    637024 non-null float64\n",
      "feature46    637024 non-null float64\n",
      "feature47    637024 non-null float64\n",
      "feature48    637024 non-null float64\n",
      "feature49    637024 non-null float64\n",
      "feature50    637024 non-null float64\n",
      "target       439975 non-null float64\n",
      "dtypes: float64(51), object(3)\n",
      "memory usage: 267.3+ MB\n"
     ]
    }
   ],
   "source": [
    "df.info()"
   ]
  },
  {
   "cell_type": "code",
   "execution_count": 28,
   "metadata": {},
   "outputs": [],
   "source": [
    "def save_dataset(df, round_num):\n",
    "    \n",
    "    #project_dir = os.path.join(os.path.dirname(__file__), os.pardir, os.pardir)\n",
    "    project_dir = os.path.join(os.getcwd(), os.pardir)\n",
    "    raw_data_path = os.path.join(project_dir, 'data', 'raw')\n",
    "    raw_data_file = os.path.join(raw_data_path, '{}_numerai_raw.csv'.format(round_num))\n",
    "    df.to_csv(raw_data_file)\n",
    "    \n",
    "    "
   ]
  },
  {
   "cell_type": "code",
   "execution_count": 30,
   "metadata": {},
   "outputs": [
    {
     "name": "stdout",
     "output_type": "stream",
     "text": [
      "/home/sean/Projects/numerai/numerai/notebooks/..\n",
      "/bin/sh: 1: ll: not found\n"
     ]
    }
   ],
   "source": [
    "save_dataset(df, round_number)\n"
   ]
  },
  {
   "cell_type": "code",
   "execution_count": 31,
   "metadata": {},
   "outputs": [
    {
     "name": "stdout",
     "output_type": "stream",
     "text": [
      "91_numerai_raw.csv\r\n"
     ]
    }
   ],
   "source": [
    "!ls ~/Projects/numerai/numerai/data/raw/"
   ]
  },
  {
   "cell_type": "code",
   "execution_count": 32,
   "metadata": {},
   "outputs": [],
   "source": [
    "project_dir = os.path.join(os.getcwd(), os.pardir)\n",
    "raw_data_path = os.path.join(project_dir, 'data', 'raw')\n",
    "files = [csv for csv in os.listdir(raw_data_path)]\n",
    "    "
   ]
  },
  {
   "cell_type": "code",
   "execution_count": 33,
   "metadata": {},
   "outputs": [
    {
     "data": {
      "text/plain": [
       "['.gitkeep', '91_numerai_raw.csv']"
      ]
     },
     "execution_count": 33,
     "metadata": {},
     "output_type": "execute_result"
    }
   ],
   "source": [
    "files"
   ]
  },
  {
   "cell_type": "code",
   "execution_count": null,
   "metadata": {},
   "outputs": [],
   "source": []
  }
 ],
 "metadata": {
  "kernelspec": {
   "display_name": "Python 3",
   "language": "python",
   "name": "python3"
  },
  "language_info": {
   "codemirror_mode": {
    "name": "ipython",
    "version": 3
   },
   "file_extension": ".py",
   "mimetype": "text/x-python",
   "name": "python",
   "nbconvert_exporter": "python",
   "pygments_lexer": "ipython3",
   "version": "3.5.2"
  }
 },
 "nbformat": 4,
 "nbformat_minor": 2
}
